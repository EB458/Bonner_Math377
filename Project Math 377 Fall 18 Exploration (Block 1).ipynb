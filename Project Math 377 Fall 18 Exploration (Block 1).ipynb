{
 "cells": [
  {
   "cell_type": "markdown",
   "metadata": {},
   "source": [
    "# Math 377 Fall 2018\n",
    "\n",
    "#### Name: Emma Bonner\n",
    "#### Section: M3"
   ]
  },
  {
   "cell_type": "markdown",
   "metadata": {},
   "source": [
    "**Documentation Statement:** Spoke with Jenna Maratea about how to remove punctuation. EI with Lt Col Horton to review my code and ask a few clarifying questions on October 1st."
   ]
  },
  {
   "cell_type": "markdown",
   "metadata": {},
   "source": [
    "# Project: Predicting Spam\n",
    "### Data Collection, Summarization, Inference and Prediction\n",
    "\n",
    "<img style=\"float: right;\" src=\"spam3.jpg\">\n",
    "This project is designed to cover many of the main ideas of the entire course. Ultimately we want to predict if an email is spam. In the course of doing this, we will collect data, clean it up, work with string data, make a simple inference, and then build a naive bayes model from the ground up. \n",
    "\n",
    "\n",
    "By the end of project, you should know how to:\n",
    "\n",
    "1. Find and import data.\n",
    "2. Use regular expressions to edit string data.\n",
    "3. Determine if a word helps to identify an email as spam or not.\n",
    "4. Create a function to predict the type of email using the ideas of Bayesian Classification.\n",
    "5. Assess your model and propose improvements.\n",
    "\n",
    "**Advice.** Develop your answers incrementally. To perform a complicated table manipulation, break it up into steps, perform each step on a different line, give a new name to each result, and check that each intermediate result is what you expect by displaying it. You can add additional names or functions to the provided cells in order to organize your work. \n",
    "\n",
    "**Authorized Resources:** Anyone and anything."
   ]
  },
  {
   "cell_type": "markdown",
   "metadata": {},
   "source": [
    "### 0. Notebook Setup  \n",
    "\n",
    "Create a folder on your local drive and place this notebook in it. Create a subfolder called `data` copy the file `subject_lines.csv` into it from our Google drive. Create another subfolder called `img` and copy `spam3.jpg` into it, this file can also be found on the Google drive."
   ]
  },
  {
   "cell_type": "markdown",
   "metadata": {},
   "source": [
    "### 1. Background Information \n",
    "\n",
    "There are a couple of reference papers that may be of interest to explore. The first is \"Better Bayesian Filtering\" by Paul Graham,http://bit.ly/1ycPbiy. The second is \"A Plan for Spam\" also by Paul Graham, http://bit.ly/1ycPcmA"
   ]
  },
  {
   "cell_type": "markdown",
   "metadata": {},
   "source": [
    "### 2. Load Packages  \n",
    "\n",
    "To get started, load `datascience`, `numpy`, `mathplotlib.pyplot`, `math`, `re`, and `pandas`."
   ]
  },
  {
   "cell_type": "code",
   "execution_count": 2,
   "metadata": {},
   "outputs": [],
   "source": [
    "# Execute this line as written\n",
    "import datascience as ds #note the labs use from datascience import * but this is not a good practice\n",
    "import numpy as np\n",
    "import pandas as pd\n",
    "import re\n",
    "import math\n",
    "%matplotlib inline\n",
    "import matplotlib.pyplot as plots\n",
    "plots.style.use('fivethirtyeight')"
   ]
  },
  {
   "cell_type": "markdown",
   "metadata": {},
   "source": [
    "### 3. Get Data\n",
    "\n",
    "We are going to use data from the [Apache SpamAssasian](https://spamassassin.apache.org/) website. In particular we want data from their public corpus; see the readme document at https://spamassassin.apache.org/old/publiccorpus/.\n",
    "\n",
    "We have provided you with a csv file that contains two columns. The first is the subject line and the second is whether the email is spam."
   ]
  },
  {
   "cell_type": "markdown",
   "metadata": {},
   "source": [
    "Read in the data. It can be found on the Google drive with the name `subject_lines.csv`. Don't forget that you have imported the `datascience` package under the alias `ds`. "
   ]
  },
  {
   "cell_type": "code",
   "execution_count": 3,
   "metadata": {},
   "outputs": [
    {
     "data": {
      "text/html": [
       "<table border=\"1\" class=\"dataframe\">\n",
       "    <thead>\n",
       "        <tr>\n",
       "            <th>Subject Line</th> <th>Spam</th>\n",
       "        </tr>\n",
       "    </thead>\n",
       "    <tbody>\n",
       "        <tr>\n",
       "            <td>Re: New Sequences Window                       </td> <td>False</td>\n",
       "        </tr>\n",
       "        <tr>\n",
       "            <td>[zzzzteana] RE: Alexander                      </td> <td>False</td>\n",
       "        </tr>\n",
       "        <tr>\n",
       "            <td>[zzzzteana] Moscow bomber                      </td> <td>False</td>\n",
       "        </tr>\n",
       "        <tr>\n",
       "            <td>[IRR] Klez: The Virus That  Won't Die          </td> <td>False</td>\n",
       "        </tr>\n",
       "        <tr>\n",
       "            <td>Re: Insert signature                           </td> <td>False</td>\n",
       "        </tr>\n",
       "        <tr>\n",
       "            <td>Re: [zzzzteana] Nothing like mama used to make </td> <td>False</td>\n",
       "        </tr>\n",
       "        <tr>\n",
       "            <td>Re: [zzzzteana] Nothing like mama used to make </td> <td>False</td>\n",
       "        </tr>\n",
       "        <tr>\n",
       "            <td>[zzzzteana] Playboy wants to go out with a bang</td> <td>False</td>\n",
       "        </tr>\n",
       "        <tr>\n",
       "            <td>Re: [zzzzteana] Nothing like mama used to make </td> <td>False</td>\n",
       "        </tr>\n",
       "        <tr>\n",
       "            <td>[zzzzteana] Meaningful sentences               </td> <td>False</td>\n",
       "        </tr>\n",
       "    </tbody>\n",
       "</table>\n",
       "<p>... (3290 rows omitted)</p>"
      ],
      "text/plain": [
       "Subject Line                                    | Spam\n",
       "Re: New Sequences Window                        | False\n",
       "[zzzzteana] RE: Alexander                       | False\n",
       "[zzzzteana] Moscow bomber                       | False\n",
       "[IRR] Klez: The Virus That  Won't Die           | False\n",
       "Re: Insert signature                            | False\n",
       "Re: [zzzzteana] Nothing like mama used to make  | False\n",
       "Re: [zzzzteana] Nothing like mama used to make  | False\n",
       "[zzzzteana] Playboy wants to go out with a bang | False\n",
       "Re: [zzzzteana] Nothing like mama used to make  | False\n",
       "[zzzzteana] Meaningful sentences                | False\n",
       "... (3290 rows omitted)"
      ]
     },
     "execution_count": 3,
     "metadata": {},
     "output_type": "execute_result"
    }
   ],
   "source": [
    "# Complete the code to read in the data\n",
    "Spam_data_table = ds.Table.read_table(\"subject_lines.csv\")\n",
    "# Spam_data_table = Table.read_table(\"subject_lines.csv\")\n",
    "Spam_data_table"
   ]
  },
  {
   "cell_type": "markdown",
   "metadata": {},
   "source": [
    "Let's get a count of the emails. Use the group command to get a count of spam and ham emails."
   ]
  },
  {
   "cell_type": "code",
   "execution_count": 4,
   "metadata": {},
   "outputs": [
    {
     "data": {
      "text/html": [
       "<table border=\"1\" class=\"dataframe\">\n",
       "    <thead>\n",
       "        <tr>\n",
       "            <th>Spam</th> <th>count</th>\n",
       "        </tr>\n",
       "    </thead>\n",
       "    <tbody>\n",
       "        <tr>\n",
       "            <td>False</td> <td>2800 </td>\n",
       "        </tr>\n",
       "        <tr>\n",
       "            <td>True </td> <td>500  </td>\n",
       "        </tr>\n",
       "    </tbody>\n",
       "</table>"
      ],
      "text/plain": [
       "Spam  | count\n",
       "False | 2800\n",
       "True  | 500"
      ]
     },
     "execution_count": 4,
     "metadata": {},
     "output_type": "execute_result"
    }
   ],
   "source": [
    "# Complete the code\n",
    "Spam_data_table.group(\"Spam\")"
   ]
  },
  {
   "cell_type": "markdown",
   "metadata": {},
   "source": [
    "### 4. Feature Engineering  \n",
    "\n",
    "We are dealing with string data as our predictor. We first need to clean it up. The choices we make here will potentially have a big impact on the quality of the model. Ideally we would go back and test the sensitivity of our results to these choices.\n",
    "\n",
    "First we will make all the text lower case. This will ensure that words such as Free and free are viewed as equivalent. This may not be a good idea for spam detection as a word in all capital letters might be more indicative of spam.  \n",
    "\n",
    "We will be dealing with frequencies in this project but we could also try other ideas such as vector encoding and $n$-grams."
   ]
  },
  {
   "cell_type": "markdown",
   "metadata": {},
   "source": [
    "#### Clean Data\n",
    "\n",
    "We will first get the subject lines in a standard format with lower cases, no punctuation, and the removal of stopwords."
   ]
  },
  {
   "cell_type": "code",
   "execution_count": 5,
   "metadata": {},
   "outputs": [
    {
     "data": {
      "text/plain": [
       "'free'"
      ]
     },
     "execution_count": 5,
     "metadata": {},
     "output_type": "execute_result"
    }
   ],
   "source": [
    "# Example of the function we need. Execute this line\n",
    "'FREE'.lower()"
   ]
  },
  {
   "cell_type": "markdown",
   "metadata": {},
   "source": [
    "Next, we need to tokenize our string. This means to split the string into a list of words. This requires the use of regular expressions, https://docs.python.org/2/library/re.html. \n",
    "\n",
    "We will also need to remove stop words. Stop words are common words such as `and` or `we`, that add little predictive ability. We will load the natural langauge tool kit package, `nltk`, to get a list of stop words. If you are having trouble loading the `nltk` package we also provide the stop words as a csv file."
   ]
  },
  {
   "cell_type": "markdown",
   "metadata": {},
   "source": [
    "#### Using nltk package, the preferred method"
   ]
  },
  {
   "cell_type": "code",
   "execution_count": 6,
   "metadata": {},
   "outputs": [
    {
     "name": "stdout",
     "output_type": "stream",
     "text": [
      "[nltk_data] Downloading package stopwords to\n",
      "[nltk_data]     C:\\Users\\C20Emma.Bonner\\AppData\\Roaming\\nltk_data...\n",
      "[nltk_data]   Package stopwords is already up-to-date!\n",
      "['i', 'me', 'my', 'myself', 'we', 'our', 'ours', 'ourselves']\n"
     ]
    }
   ],
   "source": [
    "# Execute the following commands\n",
    "import nltk\n",
    "\n",
    "nltk.download('stopwords')\n",
    "\n",
    "# Getting the English stop words from nltk\n",
    "stop_words = nltk.corpus.stopwords.words('english')\n",
    "\n",
    "# Printing out the first eight stop words\n",
    "print(stop_words[:8])\n",
    "\n",
    "#We will convert our stopwords to a set as set lookup is much faster\n",
    "\n",
    "stop_words = set(stop_words)"
   ]
  },
  {
   "cell_type": "markdown",
   "metadata": {},
   "source": [
    "#### Using a csv file, the backup method"
   ]
  },
  {
   "cell_type": "code",
   "execution_count": 7,
   "metadata": {},
   "outputs": [],
   "source": [
    "stop_words = set(pd.read_csv('stop_words.csv')[\"stopwords\"].tolist())"
   ]
  },
  {
   "cell_type": "markdown",
   "metadata": {},
   "source": [
    "Strip off unwanted text from subject line"
   ]
  },
  {
   "cell_type": "code",
   "execution_count": 8,
   "metadata": {},
   "outputs": [
    {
     "name": "stdout",
     "output_type": "stream",
     "text": [
      "Subject Line                          | Spam\n",
      "Re: New Sequences Window              | False\n",
      "[zzzzteana] RE: Alexander             | False\n",
      "[zzzzteana] Moscow bomber             | False\n",
      "[IRR] Klez: The Virus That  Won't Die | False\n",
      "Re: Insert signature                  | False\n",
      "\n",
      "\n",
      "['re', 'new', 'sequences', 'window']\n",
      "['zzzzteana', 're', 'alexander']\n",
      "['zzzzteana', 'moscow', 'bomber']\n",
      "['irr', 'klez', 'the', 'virus', 'that', \"won't\", 'die']\n",
      "['re', 'insert', 'signature']\n"
     ]
    }
   ],
   "source": [
    "# Execute this line as is\n",
    "# Using data science table to demenostrate how to make lower case and keep only words and numbers\n",
    "print(Spam_data_table.take(np.arange(5)))\n",
    "print(\"\\n\")\n",
    "for subject in Spam_data_table.take(np.arange(5)).column(0):\n",
    "    print(re.findall(\"[a-z0-9']+\",subject.lower()))"
   ]
  },
  {
   "cell_type": "markdown",
   "metadata": {},
   "source": [
    "Let's remove the stop words and split the string into words. We will run some test code on the first 5 lines for illustration."
   ]
  },
  {
   "cell_type": "code",
   "execution_count": 9,
   "metadata": {},
   "outputs": [
    {
     "name": "stdout",
     "output_type": "stream",
     "text": [
      "Original subject line:  Re: New Sequences Window\n",
      "Split line:  ['re', 'new', 'sequences', 'window']\n",
      "Clean line:  ['new', 'sequences', 'window']\n",
      "Original subject line:  [zzzzteana] RE: Alexander\n",
      "Split line:  ['zzzzteana', 're', 'alexander']\n",
      "Clean line:  ['zzzzteana', 'alexander']\n",
      "Original subject line:  [zzzzteana] Moscow bomber\n",
      "Split line:  ['zzzzteana', 'moscow', 'bomber']\n",
      "Clean line:  ['zzzzteana', 'moscow', 'bomber']\n",
      "Original subject line:  [IRR] Klez: The Virus That  Won't Die\n",
      "Split line:  ['irr', 'klez', 'the', 'virus', 'that', \"won't\", 'die']\n",
      "Clean line:  ['irr', 'klez', 'virus', 'die']\n",
      "Original subject line:  Re: Insert signature\n",
      "Split line:  ['re', 'insert', 'signature']\n",
      "Clean line:  ['insert', 'signature']\n"
     ]
    }
   ],
   "source": [
    "# Testing code, run this line of code\n",
    "for subject in Spam_data_table.take(np.arange(5)).column(0):\n",
    "    final_words = []\n",
    "    print(\"Original subject line: \",subject)\n",
    "    print(\"Split line: \",re.findall(\"[a-z0-9']+\",subject.lower()))\n",
    "    words = re.findall(\"[a-z0-9']+\",subject.lower())\n",
    "    [final_words.append(word) for word in words if word not in stop_words]\n",
    "    print(\"Clean line: \",final_words)"
   ]
  },
  {
   "cell_type": "markdown",
   "metadata": {},
   "source": [
    "#### Subject Line Frequency  \n",
    "\n",
    "Before going further with inference or prediction, let's summarize the data. We want to count the total number of times a word occurrs in a subject line separately in both the spam and ham data sets. We need to count the word once per subject line."
   ]
  },
  {
   "cell_type": "markdown",
   "metadata": {},
   "source": [
    "Write a function to tokenize each subject line. This means reducing to lower case, removing stop words, and then splits into individual words. Use the code in the previous line as an example."
   ]
  },
  {
   "cell_type": "code",
   "execution_count": 10,
   "metadata": {},
   "outputs": [],
   "source": [
    "# Complete this function\n",
    "def token(subject,sw=stop_words):\n",
    "    final_words = []\n",
    "    words = re.findall(\"[a-z0-9']+\",subject.lower())\n",
    "    [final_words.append(word) for word in words if word not in sw]\n",
    "    return set(final_words)"
   ]
  },
  {
   "cell_type": "code",
   "execution_count": 11,
   "metadata": {},
   "outputs": [
    {
     "data": {
      "text/plain": [
       "{'new', 'sequences', 'window'}"
      ]
     },
     "execution_count": 11,
     "metadata": {},
     "output_type": "execute_result"
    }
   ],
   "source": [
    "#line of code to test the above function:\n",
    "token(Spam_data_table.column(0).item(0), stop_words)"
   ]
  },
  {
   "cell_type": "markdown",
   "metadata": {},
   "source": [
    "First let's run some code on a subset, the first 3 lines, of the data. We need to get the subject line column, tokenize it, and then flatten into a list instead of a list of lists."
   ]
  },
  {
   "cell_type": "code",
   "execution_count": 12,
   "metadata": {},
   "outputs": [
    {
     "name": "stdout",
     "output_type": "stream",
     "text": [
      "List after using token:  [{'life', 'insurance', 'pay'}, {'12', 'lbs', '30', 'lose', '10', 'days', '206', 'guaranteed', 'ilug'}, {'12', 'lbs', '30', '11', 'lose', '10', 'days', '150', 'guaranteed'}] \n",
      "\n",
      "The flattened list:  ['life', 'insurance', 'pay', '12', 'lbs', '30', 'lose', '10', 'days', '206', 'guaranteed', 'ilug', '12', 'lbs', '30', '11', 'lose', '10', 'days', '150', 'guaranteed']\n"
     ]
    }
   ],
   "source": [
    "# Run this code\n",
    "# Get the first 5 subject lines for spam\n",
    "spam_subjects = Spam_data_table.where('Spam',True).take(np.arange(5)).column(0)\n",
    "#Tokenize and then append\n",
    "spam_words=[]\n",
    "for subject in spam_subjects[:3]:\n",
    "    spam_words.append(token(subject,stop_words))\n",
    "print(\"List after using token: \",spam_words,\"\\n\")\n",
    "#Create one long list of words\n",
    "spam_words = [item for sublist in spam_words for item in sublist]\n",
    "print(\"The flattened list: \",spam_words)"
   ]
  },
  {
   "cell_type": "markdown",
   "metadata": {},
   "source": [
    "Now that you have created code to generate a list of spam words taken from the first 3 subject lines, copy and paste the above snippet and modify it below to go through ALL spam. Note that you should no longer print the lists. "
   ]
  },
  {
   "cell_type": "code",
   "execution_count": 13,
   "metadata": {},
   "outputs": [
    {
     "name": "stdout",
     "output_type": "stream",
     "text": [
      "There are 2408 tokenized words in the spam subject lines.\n"
     ]
    }
   ],
   "source": [
    "#Get the subject lines for spam\n",
    "spam_subjects = Spam_data_table.where('Spam',True).column(0)\n",
    "#Tokenize and then append\n",
    "spam_words=[]\n",
    "for subject in spam_subjects:\n",
    "    spam_words.append(token(subject,stop_words))\n",
    "#Create one long list of words\n",
    "spam_words = [item for sublist in spam_words for item in sublist]\n",
    "print(\"There are\",len(spam_words),\"tokenized words in the spam subject lines.\")"
   ]
  },
  {
   "cell_type": "markdown",
   "metadata": {},
   "source": [
    "We can tokenize multiple subjects with the apply function."
   ]
  },
  {
   "cell_type": "code",
   "execution_count": 14,
   "metadata": {},
   "outputs": [
    {
     "data": {
      "text/html": [
       "<table border=\"1\" class=\"dataframe\">\n",
       "    <thead>\n",
       "        <tr>\n",
       "            <th>Subject Line</th> <th>Spam</th>\n",
       "        </tr>\n",
       "    </thead>\n",
       "    <tbody>\n",
       "        <tr>\n",
       "            <td>{'new', 'sequences', 'window'}   </td> <td>False</td>\n",
       "        </tr>\n",
       "        <tr>\n",
       "            <td>{'alexander', 'zzzzteana'}       </td> <td>False</td>\n",
       "        </tr>\n",
       "        <tr>\n",
       "            <td>{'moscow', 'bomber', 'zzzzteana'}</td> <td>False</td>\n",
       "        </tr>\n",
       "        <tr>\n",
       "            <td>{'die', 'klez', 'virus', 'irr'}  </td> <td>False</td>\n",
       "        </tr>\n",
       "        <tr>\n",
       "            <td>{'insert', 'signature'}          </td> <td>False</td>\n",
       "        </tr>\n",
       "    </tbody>\n",
       "</table>"
      ],
      "text/plain": [
       "Subject Line                      | Spam\n",
       "{'new', 'sequences', 'window'}    | False\n",
       "{'alexander', 'zzzzteana'}        | False\n",
       "{'moscow', 'bomber', 'zzzzteana'} | False\n",
       "{'die', 'klez', 'virus', 'irr'}   | False\n",
       "{'insert', 'signature'}           | False"
      ]
     },
     "execution_count": 14,
     "metadata": {},
     "output_type": "execute_result"
    }
   ],
   "source": [
    "# Run code\n",
    "# Using apply function in datascience\n",
    "Spam_data_table.take(np.arange(5)).with_columns(\"Subject\",Spam_data_table.take(np.arange(5)).apply(token,\"Subject Line\")).\\\n",
    "drop(0).select(\"Subject\",\"Spam\").relabel(\"Subject\",\"Subject Line\")"
   ]
  },
  {
   "cell_type": "markdown",
   "metadata": {},
   "source": [
    "Using the snippet above as an example, tokenize all subjects from spam e-mails only."
   ]
  },
  {
   "cell_type": "code",
   "execution_count": 15,
   "metadata": {},
   "outputs": [
    {
     "data": {
      "text/html": [
       "<table border=\"1\" class=\"dataframe\">\n",
       "    <thead>\n",
       "        <tr>\n",
       "            <th>Subject Line</th> <th>Spam</th>\n",
       "        </tr>\n",
       "    </thead>\n",
       "    <tbody>\n",
       "        <tr>\n",
       "            <td>Life Insurance - Why Pay More?                              </td> <td>True</td>\n",
       "        </tr>\n",
       "        <tr>\n",
       "            <td>[ILUG] Guaranteed to lose 10-12 lbs in 30 days 10.206       </td> <td>True</td>\n",
       "        </tr>\n",
       "        <tr>\n",
       "            <td>Guaranteed to lose 10-12 lbs in 30 days                  ...</td> <td>True</td>\n",
       "        </tr>\n",
       "        <tr>\n",
       "            <td>Re: Fw: User Name & Password to Membership To 5 Sites zz ...</td> <td>True</td>\n",
       "        </tr>\n",
       "        <tr>\n",
       "            <td>[ILUG-Social] re: Guaranteed to lose 10-12 lbs in 30 day ...</td> <td>True</td>\n",
       "        </tr>\n",
       "        <tr>\n",
       "            <td>RE: Your Bank Account Information                           </td> <td>True</td>\n",
       "        </tr>\n",
       "        <tr>\n",
       "            <td>FORTUNE 500 COMPANY HIRING, AT HOME REPS.                   </td> <td>True</td>\n",
       "        </tr>\n",
       "        <tr>\n",
       "            <td>Is Your Family Protected?                                   </td> <td>True</td>\n",
       "        </tr>\n",
       "        <tr>\n",
       "            <td>RE: Important Information Concerning Your Bank Account      </td> <td>True</td>\n",
       "        </tr>\n",
       "        <tr>\n",
       "            <td>MULTIPLY YOUR CUSTOMER BASE!                                </td> <td>True</td>\n",
       "        </tr>\n",
       "    </tbody>\n",
       "</table>\n",
       "<p>... (490 rows omitted)</p>"
      ],
      "text/plain": [
       "Subject Line                                                 | Spam\n",
       "Life Insurance - Why Pay More?                               | True\n",
       "[ILUG] Guaranteed to lose 10-12 lbs in 30 days 10.206        | True\n",
       "Guaranteed to lose 10-12 lbs in 30 days                  ... | True\n",
       "Re: Fw: User Name & Password to Membership To 5 Sites zz ... | True\n",
       "[ILUG-Social] re: Guaranteed to lose 10-12 lbs in 30 day ... | True\n",
       "RE: Your Bank Account Information                            | True\n",
       "FORTUNE 500 COMPANY HIRING, AT HOME REPS.                    | True\n",
       "Is Your Family Protected?                                    | True\n",
       "RE: Important Information Concerning Your Bank Account       | True\n",
       "MULTIPLY YOUR CUSTOMER BASE!                                 | True\n",
       "... (490 rows omitted)"
      ]
     },
     "execution_count": 15,
     "metadata": {},
     "output_type": "execute_result"
    }
   ],
   "source": [
    "#Line of test code because it originally wasn't responding to the 'are.equal_to()' predicate.\n",
    "spamonly = Spam_data_table.where(\"Spam\",True)\n",
    "spamonly"
   ]
  },
  {
   "cell_type": "code",
   "execution_count": 16,
   "metadata": {},
   "outputs": [
    {
     "data": {
      "text/plain": [
       "array([{'life', 'insurance', 'pay'},\n",
       "       {'12', 'lbs', '30', 'lose', '10', 'days', '206', 'guaranteed', 'ilug'},\n",
       "       {'12', 'lbs', '30', '11', 'lose', '10', 'days', '150', 'guaranteed'},\n",
       "       {'fw', 'user', 'name', 'zzzz', 'pviqg', 'example', '5', 'membership', 'sites', 'com', 'password'},\n",
       "       {'12', 'lbs', '30', 'lose', '148', '10', 'days', 'social', 'guaranteed', 'ilug'},\n",
       "       {'information', 'account', 'bank'},\n",
       "       {'500', 'home', 'fortune', 'company', 'hiring', 'reps'},\n",
       "       {'protected', 'family'},\n",
       "       {'important', 'concerning', 'account', 'bank', 'information'},\n",
       "       {'multiply', 'base', 'customer'},\n",
       "       {'18070', 'phone', 'belt', '1', 'cell', '95', 'clips'},\n",
       "       {'wives', 'girlfriends', 'whoring', 'around', 'cheating'},\n",
       "       {'11', 'support', 'get', 'child', '180', 'deserve'},\n",
       "       {'back', 'phone', 'free', '50', 'cell', 'cash'},\n",
       "       {'75', 'hit', '12304', 'rates', 'year', '4', '35', 'msnbc', 'low'},\n",
       "       {'calls', 'per', 'minute', 'quality', '18', 'conference', 'best'},\n",
       "       {'plans', 'cable'}, {'wanted', 'work', 'home', 'help', 'reps'},\n",
       "       {'help', 'cry'},\n",
       "       {'insurance', 'lowest', 'available', 'rates', 'moode', 'life', 'adv'},\n",
       "       {'support', 'get', 'child', '10', 'deserve', '132', 'ilug'},\n",
       "       {'business', 'ilug'}, {'relationship'},\n",
       "       {'guaranteed', 'penile', 'method', 'enlargement'},\n",
       "       {'ce', '84', 'save', 'credits'},\n",
       "       {'debt', 'program', 'skyxtgm', 'aver'}, {'help', 'cry'},\n",
       "       {'join', 'singles', '14', 'growing', 'fastest', \"web's\", '51', 'community'},\n",
       "       {'fuck', 'want', 'mothers'},\n",
       "       {'insurance', 'double', 'cost', 'extra', 'tctoom', 'life'},\n",
       "       {'viruses', 'protect', 'computer', '21198', 'harmful'},\n",
       "       {'subject', 'ilug'},\n",
       "       {'join', '11', 'singles', 'growing', 'fastest', \"web's\", 'community', '67', 'ilug'},\n",
       "       {'30', 'earn', 'free', 'give', \"cd's\", '5k', 'days', 'away'},\n",
       "       {'shape', 'summer'}, {'shape', 'summer'}, {'best', '5'},\n",
       "       {'best', '5'}, {'account', 'bank'}, {'account', 'bank'},\n",
       "       {'weight', '9', '6117kfvc5', 'viagra', 'loss', 'order'},\n",
       "       {'weight', '9', '6117kfvc5', 'viagra', 'loss', 'order'},\n",
       "       {'singles', 'meet', 'like'},\n",
       "       {'dreamed', 'home', 'eiexvv', 'based', 'business'},\n",
       "       {'chinese', 'enter', 'market', 'ilug'},\n",
       "       {'chinese', 'enter', 'market'}, {'pussy', 'big', 'cock', 'free'},\n",
       "       {'500', 'home', 'fortune', 'company', 'hiring', 'reps'},\n",
       "       {'incredible', 'pictures'}, {'look', 'sandy', 'dorm'},\n",
       "       {'private', 'photo', '13', 'start', 'album', '200', 'online'},\n",
       "       {'29', '12173', 'systemworks', 'clearance', 'attn', '99', 'sale'},\n",
       "       {'wait', 'rates', 'slashed', 'ccaxc', 'interest', 'adv'},\n",
       "       {'top', 'get'}, {'hi'},\n",
       "       {'insurance', 'lowest', 'cost', 'nticy', 'life', 'best'},\n",
       "       {'500', 'home', 'fortune', 'company', 'hiring', 'reps'},\n",
       "       {'competitive', 'rates', 'mortgage'},\n",
       "       {'website', 'teen', 'lesbian'},\n",
       "       {'warranties', 'undoc', 'extended', 'auto', 'adv'},\n",
       "       {'gift', '25', 'free', 'card', 'claim', 'r', 'kmart'},\n",
       "       {'better', '2', '2002', '08', 'sex', '99', '26'},\n",
       "       {'insurance', 'lowest', 'available', 'rates', 'hsdpr', 'life', 'adv'},\n",
       "       {'insurance', 'jhiwns', 'quotes', 'without', 'hassle', 'life'},\n",
       "       {'quick', 'get', '28', '4179uklj5', 'debt', '057sxua1524uhkc5', '900'},\n",
       "       {'market', 'investment', 'needed', 'access', 'internet'},\n",
       "       {'instant', 'quote'}, {'cheap', 'fags'},\n",
       "       {'site', '15', 'pm', '25', 'money', 'making', 'zzzz', '2', '2002', '8', '18', 'web'},\n",
       "       {'market', 'investment', 'needed', 'access', 'internet'},\n",
       "       {'savings', 'domain', 'registration'},\n",
       "       {'free', '2', 'minute', '8', 'survey', 'tickets', 'theater', 'movie'},\n",
       "       {'prescription', 'fill', 'qeeb', 'viagra', 'online', 'doctors'},\n",
       "       {'fw', 'need', 'protect', 'computer', 'systemworks', 'dgywaog'},\n",
       "       {'save'},\n",
       "       {'fw', 'offerid', 'zzzz', 'cum', 'example', 'account', 'qxjx', 'com', 'shots'},\n",
       "       {'month', '6', 'qkdjtqsscr', '50', '000', 'per', '250'},\n",
       "       {'newsletter', 'webdesignhq'}, {'business', 'future'},\n",
       "       {'discount', 'fags', 'ilug'}, {'adult', 'classifieds'},\n",
       "       {'low', 'smokes', 'price'}, {'low', 'tobacco', 'price'},\n",
       "       {'endeavour', 'benefitting', 'request', 'mutually'}, {'approved'},\n",
       "       {'discount', 'smokes'}, {'impaired', 'month', 'case', 'risk'},\n",
       "       {'bigger', 'fuller', 'naturally', 'breasts', 'weeks', 'ilug'},\n",
       "       {'investment'}, {'cost', 'easy', 'use', 'conferencing', 'low'},\n",
       "       {'immediate', 'needed', 'reply'},\n",
       "       {'marketing', '100k', 'earn', 'communications', 'uleio', 'year', 'internet', 'adv'},\n",
       "       {\"i'm\", 'ready', 'bare'}, {'info', '14', 'biz', '95', 'com'},\n",
       "       {'ceviri', 'yazilimlari', 'scoop'}, {'email', 'marketing'},\n",
       "       {'already', 'business', 'immediately', 'cash', 'write'},\n",
       "       {'shop', 'rate', 'otq', 'loan', 'best', 'lenders'},\n",
       "       {'go', 'date', 'want'},\n",
       "       {'want', 'poker', 'play', 'people', 'online'},\n",
       "       {'incredible', 'pictures'},\n",
       "       {'lovers', 'gadget', 'must', '7134', '4'},\n",
       "       {'month', '6', 'hosting', '50', 'per'},\n",
       "       {'safe', '100', 'zzzz', 'increase', 'size', 'breast'},\n",
       "       {'support', 'get', 'child', '10', 'deserve', '124'},\n",
       "       {'zzzz', 'breast', 'new', 'enhancement'}, {'pass', 'vip'},\n",
       "       {'take', 'marketing', 'level', 'next'},\n",
       "       {'75', 'hit', '12304', 'rates', 'year', '4', '35', 'msnbc', 'low'},\n",
       "       {'warranties', 'dhzbj', 'extended', 'auto', 'adv'},\n",
       "       {'multiply', 'base', 'customer'},\n",
       "       {'one', 'commission', 'three', 'streams', 'sale'},\n",
       "       {'plans', 'cable'}, {'free', '60', 'minute', 'porn', 'movie'},\n",
       "       {'lowest', 'free', 'available', 'rates', 'quote', 'ihsxq', 'life', 'term', 'adv'},\n",
       "       {'399', '5', 'complete', 'custom', '1709d', 'websites'},\n",
       "       {'webcam', 'wanted', 'link'},\n",
       "       {'teeth', 'whitening', 'ovcnd', 'home', 'professional', 'adv'},\n",
       "       {'news', 'yet', 'best'},\n",
       "       {'merchant', 'free', 'account', 'xaxft', 'information'},\n",
       "       {'goods', 'police', 'seized', '99', 'auctions', 'fbi', 'irs'},\n",
       "       {'wanted', 'work', 'home', 'help', 'reps'},\n",
       "       {'olun', 'scoop', 'haberdar'}, {'error', 'bank', 'favor', 'ilug'},\n",
       "       {'prescription', 'fill', 'qeeb', 'viagra', 'online', 'doctors'},\n",
       "       {'think', 'know', 'let', '32482'},\n",
       "       {'hottest', 'join', '11', 'growing', '70', 'fastest', \"web's\", 'community'},\n",
       "       {'ruin', 'virus', 'computer', '12879', 'day', 'let'},\n",
       "       {'submission', 'www', 'form'}, {'incredible', 'pictures'},\n",
       "       {'12', 'lbs', '30', 'lose', 'patch', 'slim', '24', '10', 'days', 'guaranteed'},\n",
       "       {'fuck', 'want', 'mothers'}, {'loss', 'memory'},\n",
       "       {'zzzz', 'breast', 'new', 'enhancement'},\n",
       "       {'work', 'career', 'opportunity', 'home'},\n",
       "       {'promote', 'website', 'adv'}, {'zzzz8969', 'congratualtions'},\n",
       "       {'75', '28940', 'hit', 'rates', 'year', 'msnbc', '4', 'low', '18'},\n",
       "       {'hgh', 'get', 'hormone', 'growth', '17441', 'human', 'fountain', '21st', 'century', 'youth'},\n",
       "       {'30k', 'even', 'save', \"refi'd\", '1090'},\n",
       "       {'site', 'meeting', 'chicago'},\n",
       "       {'179dml', '15', 'catalog', 'toys', 'articles', 'adult', '2009vjtt6', 'online'},\n",
       "       {'spam'}, {'market', 'illness', 'critical', 'policy', 'best'},\n",
       "       {'rich', 'grow', 'teach'},\n",
       "       {'tranquility', 'harmony', 'right', 'find', 'happiness', 'peace'},\n",
       "       {'webcam', 'social', 'babe', 'ilug'},\n",
       "       {'free', 'today', 'daily', 'news', 'trial', 'iraq'},\n",
       "       {'access', 'free'},\n",
       "       {'cartridges', 'noaz', 'toners', 'inkjet', 'less'},\n",
       "       {'work', 'hiring', 'home'}, {'hunnie', 'put', '4u', 'webcam'},\n",
       "       {'waiting', 'hey', 'rates', 'low'}, {'huge', 'natural', 'tits'},\n",
       "       {'shipment', 'status'},\n",
       "       {'prescription', 'fill', 'qeeb', 'viagra', 'online', 'doctors'},\n",
       "       {'easy', 'new', 'use', 'conferencing', 'web', 'software'},\n",
       "       {'less', 'sometimes'}, {'prank', 'phone', 'play', 'hilarious'},\n",
       "       {'paid', 'recruiting', 'everybody', 'needed', 'gets'},\n",
       "       {'paid', 'recruiting', 'everybody', 'needed', 'gets', 'social', 'ilug'},\n",
       "       {'history', 'get', 'piece'}, {'important', 'ilug'},\n",
       "       {'systemworks', '2002', 'clearance', 'attn', 'vojtgt', 'norton', 'sale'},\n",
       "       {'assistant', 'anticipated', 'required'},\n",
       "       {'prank', 'phone', 'play', 'hilarious'}, {'increase', 'sales'},\n",
       "       {'hgh', 'free', '10', 'look', 'weeks', 'years', 'younger', '3', 'hmuprzd'},\n",
       "       {'cartridges', 'price', 'bvax', 'inkjet', 'low', 'hi'},\n",
       "       {'feeds', 'news', 'dfvht', 'internet', 'executives'},\n",
       "       {'6', 'new', 'congratulations', 'signups'},\n",
       "       {'500', 'home', 'fortune', 'company', 'hiring', 'reps'},\n",
       "       {'cam', 'tell', 'sluts'},\n",
       "       {'beautiful', 'big', 'save', 'oydqh', 'prints', 'make'},\n",
       "       {'undervalued', 'company'}, {'look', 'sandy', 'dorm'},\n",
       "       {'attn', 'olibykn', 'pounds', 'lighter'},\n",
       "       {'wait', 'rates', 'xoxun', 'slashed', 'interest', 'adv'},\n",
       "       {'insurance', 'lowest', 'available', 'rates', 'pzcby', 'life', 'adv'},\n",
       "       {'qhzhc', 'systemworks', '2002', 'attn', 'blowout', 'norton'},\n",
       "       {'zzzz', 'hgh', 'request'},\n",
       "       {'attn', 'olibykn', 'pounds', 'lighter'},\n",
       "       {'wanna', 'see', 'get', 'fisted'},\n",
       "       {'part', '22311', '500', '1', '00', 'time'},\n",
       "       {'30', 'herbal', 'viagra', 'crua', 'trial', 'day'},\n",
       "       {'fw', 'systemworks', '2002', 'final', 'clearance', 'djhl', 'norton', 'sale'},\n",
       "       {'warranties', 'aanfh', 'extended', 'auto', 'adv'},\n",
       "       {'need', 'get', 'money', 'rates', 'mortgage'},\n",
       "       {'9', 'hottest', 'babes', '4139yaek3'},\n",
       "       {'need', 'bed', 'inches', 'woman', 'many', 'satisfy'},\n",
       "       {'stock', 'market', 'better', 'investment'},\n",
       "       {'29', 'systemworks', 'clearance', 'attn', '99', 'norton', 'sale'},\n",
       "       {'rich', 'grow', 'teach'}, {'pc', \"uk's\", 'leading', 'specialist'},\n",
       "       {'tba', 'doctor', 'walk', 'diabetes', 'walks'},\n",
       "       {'dvd', 'create', '5', '4863d', 'library', 'would', 'like'},\n",
       "       {'viral', 'take', 'marketing', 'advantage'},\n",
       "       {'fw', 'wire', 'washington'},\n",
       "       {'buy', 'approved', 'viagra', 'internet', 'sjhfl', 'online'},\n",
       "       {'taint', 'org'}, {'competition', 'insurance', 'new', 'product'},\n",
       "       {'stop', 'mlm', 'insanity', 'ilug'},\n",
       "       {'system', 'testing', 'please', 'delete'},\n",
       "       {'17', 'gorgeous', '399', 'complete', 'custom', '4156cumg9', 'websites', '855yqkc5'},\n",
       "       {'fw', 'systemworks', '2002', 'clearance', '11058', 'norton', 'sale'},\n",
       "       {'fw', 'money', 'legal', 'seen', 'tv', 'make', 'fast', '65000'},\n",
       "       {'approved'},\n",
       "       {'fw', 'cptj', 'virus', 'need', 'systemworks', 'must', 'protection'},\n",
       "       {'mail', 'harvest', 'lots', 'quickly', 'addresses', 'adv', 'e'},\n",
       "       {'take', 'offer', '24344', 'advantage'}, {'watch'},\n",
       "       {'us', 'declines', 'ltc', 'place'}, {'watch'},\n",
       "       {'cyberage', 'jenny', 'dating', 'invitation'},\n",
       "       {'27', '11', 'want', 'sex', '7099ocyt9', '261uccu3485ggcz0'},\n",
       "       {'welcome', 'income', 'concept', 'residual'},\n",
       "       {'business', 'urgent', 'assistance'},\n",
       "       {'competition', 'app', 'z', 'roster'},\n",
       "       {'com', 'info', '14', 'year', 'biz', 'extensions', '95', 'per'},\n",
       "       {'free', 'debt', '8119', '2003', 'ebay'}, {'freak'},\n",
       "       {'win', 'companies', 'please', 'home', 'survey', 'dvr', 'help', 'entertainment'},\n",
       "       {'dare', 'annuity', 'better', 'find'},\n",
       "       {'lows', 'rates', 'yr', 'forty', 'interest'},\n",
       "       {'business', 'proposal'},\n",
       "       {'time', 'pm', 'possible', '11', '100', '57', 'illegal', 'net', 'year', '000', '43', 'junk', 'per', 'mlm'},\n",
       "       {'partnership', 'seeking'}, {'warez', 'customized', 'cds'},\n",
       "       {'needed', 'assistance', 'ilug'},\n",
       "       {'marketplace', 'compete', 'business', 'lfhlxhu', 'lenders'},\n",
       "       {'gorgeous', '486vnhz47', 'complete', 'custom', '18', '9009zrld0', 'websites', '349'},\n",
       "       {'producers', 'premier', 'opportunities', 'outstanding'},\n",
       "       {'confidential', 'urgent', 'assistance'},\n",
       "       {'advance', 'great', 'career', 'job', 'find'},\n",
       "       {'ein', 'news', 'trial', 'free'},\n",
       "       {'assistant', 'urgent', 'needed', 'social', 'ilug'},\n",
       "       {'back', 'get', 'please', 'kindly', 'social', 'ilug'},\n",
       "       {'org', 'partnership', 'zzzzason', 'friendsearch'},\n",
       "       {'attn', 'email', 'targeted', 'addresses'},\n",
       "       {'attn', 'email', 'targeted', 'addresses'},\n",
       "       {'win', 'companies', 'please', 'home', 'survey', 'dvr', 'help', 'entertainment'},\n",
       "       {'behind', 'elite', 'every', 'producer'},\n",
       "       {'fw', 'buy', 'short', 'recommendation', 'term'},\n",
       "       {'back', 'get', 'please', 'kindly', 'ilug'},\n",
       "       {'osawa', 'desk', 'george', 'ilug'},\n",
       "       {'international', 'calls', 'minute', '33', 'subscription', 'per', 'cents'},\n",
       "       {'forum', 'industry', '136'}, {'renewal', 'buy', 'commissions'},\n",
       "       {'technology', 'digital', 'new', 'video', 'recorder', 'ip', 'smart'},\n",
       "       {'cigarettes', 'half', 'tobacco', 'price'},\n",
       "       {'14', 'year', '95', 'per', 'proscrastinate'},\n",
       "       {'cigarettes', 'half', 'tobacco', 'price'}, {'x', 'ilug'},\n",
       "       {'wm', 'cek', 'card', 'green', 'kacirmayin', 'l'},\n",
       "       {'lie', 'mis', 'fraud', 'information'},\n",
       "       {'profits', '951', 'huge', 'make', 'ebay'},\n",
       "       {'capable', 'need', 'urgent', '225', 'assistance', 'tel', '05775748'},\n",
       "       {'friendly', 'plan', 'pension', 'owner', 'business'},\n",
       "       {'right', 'mortgage', 'lender', 'afpe', 'us', 'let', 'find'},\n",
       "       {'little', 'wall', 'secret', 'dirty', \"street's\"},\n",
       "       {'29', 'quantities', 'systemworks', 'tj', 'limited', 'clearance', '99', 'sale'},\n",
       "       {'ab', 'big5', 'a4', 'dd', 'ac', 'q', 'a3', 'ae', 'b7', 'e1'},\n",
       "       {'23875', 'marketing', 'sales', 'increase', 'direct'},\n",
       "       {'buffett', 'warren', 'tell', 'ya'},\n",
       "       {'trader', 'earn', '139', 'year', '000', 'day'},\n",
       "       {'neu', 'im', 'handel', 'nr', 'ausgabe', '66', 'k1'},\n",
       "       {'newsletter', '2002', \"coach'invest\", 'septembre'},\n",
       "       {'newsletter', '2002', \"coach'invest\", 'septembre'},\n",
       "       {'11th', 'convergence', 'india', 'exhibition', 'conference', '2003'},\n",
       "       {'suchen', 'wir', 'erotikdarsteller'},\n",
       "       {'need', 'get', 'free', 'computer', 'skills'},\n",
       "       {'need', 'get', 'free', 'computer', 'skills'},\n",
       "       {'gyrcjdckocrfjegkyirije4lmyvpjvwlbce8jtclzyvzgyhk', 'b', 'iso', '2022', 'jp'},\n",
       "       {'taint', 'iiu', 'org'}, {'insurance', 'term'},\n",
       "       {'75', 'hit', 'rates', 'year', '12021', '4', '35', 'msnbc', 'low'},\n",
       "       {'urgent', 'social', 'assistance', 'ilug'},\n",
       "       {'wm', 'ceviri', 'yazilimlari'},\n",
       "       {'amaze', 'would', 'losing', 'answer'},\n",
       "       {'seeking', 'partnership', 'ilug'}, {'warez', 'custom', 'cds'},\n",
       "       {'hywwzzlzd', 'cigarettes', 'wholesale'},\n",
       "       {'ul', 'portfolio', \"life's\", 'rocks', 'pru'},\n",
       "       {'publishing', 'paperless'},\n",
       "       {'29', '7', 'systemworks', 'clearance', '0989sqj', '99', 'sale'},\n",
       "       {'dlra', 'yet', 'money', 'give'},\n",
       "       {'insurance', 'life', 'drop', 'ilug'},\n",
       "       {'satalk', 'urgent', 'assistance'}, {'urgent', 'assistance'},\n",
       "       {'want', 'poker', 'play', 'people', 'online', 'ilug'},\n",
       "       {'diplomas', 'university'}, {'weekend'}, {'gateway', 'wealth'},\n",
       "       {'report', 'message', 'ytu855', 'rkq', 'contact', 'page'},\n",
       "       {'save', '1', '32004', '70', 'exquisite', 'suite', 'software'},\n",
       "       {'renewal', 'membership'}, {'property', 'looking', 'spain'},\n",
       "       {'man', 'grow', 'abm'},\n",
       "       {'powerball', '100', 'results', '14', 'september', '2002', 'million', 'estimated', 'saturday', 'jackpot'},\n",
       "       {'summit', 'new', 'oct', 'management', 'city', 'invite', 'york', '10th', 'content'},\n",
       "       {'tba', 'doctor', 'walk', 'diabetes', 'walks'},\n",
       "       {'14', 'popular', 'extensions', 'biz', '95', 'com', 'ilug'},\n",
       "       {'3f', 'dc', 'c6', 'big5', 'b6', 'q', 'c7', 'a4f', 'a7a', 'b7', 'b3', 'a6n'},\n",
       "       {'money', 'players', 'real', 'poker', 'againts'}, {'information'},\n",
       "       {'best', 'product', '2002'}, {'best', 'product', '2002'},\n",
       "       {'6', 'bailout', '50', 'w', 'lifetime', '4', '05', 'annuity'},\n",
       "       {'27', 'never', 'pay', '111bagy1254ihzj0', 'paysite', 'free', '6277zwyl0', '37', 'porn'},\n",
       "       {'6826', 'powerseller', 'secrets', 'ebay'},\n",
       "       {'goods', 'prices', 'replica', 'social', 'best', 'ilug'},\n",
       "       {'problems', 'tax'},\n",
       "       {'get', '9', '2002', 'go', 'gadgets', 'em', '4497vlnz2'}, {'pics'},\n",
       "       {'goods', 'prices', 'replica', 'best', 'ilug'},\n",
       "       {'cost', 'calls', 'quality', 'low', 'conference'},\n",
       "       {'a5', 'dc', 'f8', 'a7k', 'big5', 'b5l', 'a4', 'b6o', 'f4', 'ad', 'q', 'e4', 'aa', 'b9q', 'b8', 'b3', 'b4', 'a6'},\n",
       "       {'efi', 'www', 'http', 'ie'}, {'safety', 'us', 'upon', 'flight'},\n",
       "       {'contain', 'virus', 'computer', 'warning', 'may'},\n",
       "       {'bb', 'big5', 'a4', 'dd', 'b9d', 'aa', 'a7', 'adn', 'q', 'f7', 'da', 'd3', 'a6h', 'b0', 'a8', 'f3', 'a7a', 'b7'},\n",
       "       {'michael', 'ilug'}, {'wm', 'r', 'z', 'dileriz'},\n",
       "       {'something', 'need', 'find'}, {'funds', 'investment'},\n",
       "       {'300', 'fax', 'package', 'mil', '1', '5', 'million', 'cd', '99', '95', 'addresses', 'email', 'numbers', '3'},\n",
       "       {'amazon', 'offers', 'special', 'affiliate', 'com'},\n",
       "       {'milosevica', 'se', 'sps', 'slobodana', 'odrekao'},\n",
       "       {'excerpt', 'images', 'free', 'loser', 'abusers', 'welfare', 'america', 'makers', 'baby', 'choosers'},\n",
       "       {'gyrcjdckocrfjegkyirije4lmyvpjvwlbce8jtclzyvzgyhk', 'b', 'iso', '2022', 'jp'},\n",
       "       {'nights', 'lighting', 'wei', 'lightening', 'ou'},\n",
       "       {'nights', 'lighting', 'wei', 'lightening', 'ou'},\n",
       "       {'u3vuznjvbsbsawdodgluzyde', 'b', 'gbk', 'o1xms', 'rxewvrs4srhztldx9e3x', 'seo'},\n",
       "       {'gyrcjdckocrfjegkyirije4lmyvpjvwlbce8jtclzyvzgyhk', 'b', 'iso', '2022', 'jp'},\n",
       "       {'gyrcjdckocrfjegkyirije4lmyvpjvwlbce8jtclzyvzgyhk', 'b', 'iso', '2022', 'jp'},\n",
       "       {'b', 'iso', '2022', 'jp', 'gyrctcq', 'nuj6os05cciopf5hlieqpvaycsqkje45lt5sgyhc'},\n",
       "       {'b', 'iso', '2022', 'jp', 'gyrctcq', 'nuj6os05cciopf5hlieqpvaycsqkje45lt5sgyhc'},\n",
       "       {'b', 'iso', '2022', 'jp', 'gyrctcq', 'nuj6os05cciopf5hlieqpvaycsqkje45lt5sgyhc'},\n",
       "       {'milosevica', 'se', 'sps', 'slobodana', 'odrekao'},\n",
       "       {'big5', 'fqdptsykrn5', 'b', 'rekq96sjre5'},\n",
       "       {'gef', 'llig', 'sexabenteuer'}, {'today', 'news'},\n",
       "       {'one', 'money', 'free', 'kind', 'maker', 'try'},\n",
       "       {'one', 'money', 'free', 'kind', 'maker', 'try'},\n",
       "       {'one', 'money', 'free', 'kind', 'maker', 'try'},\n",
       "       {'one', 'money', 'free', 'kind', 'maker', 'try'},\n",
       "       {'mde', 'r', 'yeni'}, {'still', 'house', 'looking'},\n",
       "       {'adp', 'b4i', 'a5', 'big5', 'a4', 'b7q', 'adn', 'c1', 'q', 'b5', 'a6h', 'd9', 'a7a'},\n",
       "       {'29', '7126kyik0', '697yfcq4277rqzm', 'systemworks', 'clearance', '24', '99', 'norton', 'fwd', 'sale'},\n",
       "       {'rich', 'grow', 'teach'}, {'time', 'moment', 'please', 'may'},\n",
       "       {'requested', 'information', 'ilug'}, {'zzzz', 'hello'},\n",
       "       {'dvd', 'friend', 'copy', 'game', 'playstation', 'software'},\n",
       "       {'monthly', 'fees', '9', 'net', 'long', 'distance', 'best', '3', 'cents'},\n",
       "       {'assistance', 'ilug'},\n",
       "       {'get', 'rates', 'caught', 'rising', 'interest'},\n",
       "       {'bban', 'gsg', 'last', 'new', '309', 'pick', 'stock'},\n",
       "       {'notification', 'membership', 'status'}, {'fgtpril', 'satisfy'},\n",
       "       {'systemworks', 'clearance', 'norton', 'fwd', 'sale'},\n",
       "       {'got', 'better', 'best'}, {'gbvzzzz', 'bus', 'get'},\n",
       "       {'zzzz', 'com', 'example'},\n",
       "       {'powerful', 'hgh', 'ever', 'drug', 'introducing', 'anti', 'obesity'},\n",
       "       {'laptop', 'today', 'super', '17639', 'desktop', 'charge'},\n",
       "       {'free', 'publishing', 'download', 'software', 'webbook'},\n",
       "       {'money', 'players', 'real', 'poker', 'social', 'againts', 'ilug'},\n",
       "       {'hello', 'social', 'ilug'}, {'english', 'well'},\n",
       "       {'hello', 'ilug'}, {'award', 'notification', 'ilug'},\n",
       "       {'u', '25', '100', 'last', 'wju', 'spent', 'well', '000', 'make', 'time'},\n",
       "       {'apr', 'students', 'chase', 'introducing', 'introductory', 'platinum', '0'},\n",
       "       {'dvd', 'friend', 'copy', 'instantly', 'game', 'playstation', 'software'},\n",
       "       {'impaired', 'month', 'case', 'risk'},\n",
       "       {'rsirtr', 'world', 'pc', 'revolution', 'arrived'},\n",
       "       {'29', 'systemworks', 'clearance', '99', 'fwd', 'sale'},\n",
       "       {'bsjmcoik', 'cartridges', 'toners', 'inkjet', 'less'},\n",
       "       {'business', 'expand', 'money'},\n",
       "       {'warranties', 'extended', 'hvgxs', 'auto', 'adv'},\n",
       "       {'never', 'pay', 'fees', 'listing', 'ebay'},\n",
       "       {'computer', 'protect', 'information'},\n",
       "       {'secret', 'link', 'adv', 'found'},\n",
       "       {'factors', 'weight', 'new', 'slim', 'loss', 'totally', 'approach'},\n",
       "       {'safe', '30543', 'hgh', 'hormone', 'release', 'growth', 'effective'},\n",
       "       {'30', 'speed', 'cpu', 'joke', 'ilug'},\n",
       "       {'29', '32053', 'available', '99', 'norton', 'fwd', 'makes', 'best', 'software'},\n",
       "       {'gift', '25', 'card', 'claim', 'kmart', 'social', 'ilug'},\n",
       "       {'multimedia', \"pc's\", 'unleash', '70', 'power', 'retail'},\n",
       "       {'waiting', 'many', 'definitely', 'answer'},\n",
       "       {'save', 'fts', '1', '70', 'exquisite', 'suite', 'software'},\n",
       "       {'shipment', 'status'}, {'eight', 'years', 'guaranteed', '5'},\n",
       "       {'zzzz', 'money'},\n",
       "       {'500', 'work', 'home', 'fortune', 'needed', 'reps'},\n",
       "       {'email', 'marketing', 'info'},\n",
       "       {'30', 'money', '1', '33', 'collect', 'time'},\n",
       "       {'funds', 'investment'}, {'funds', 'investment'},\n",
       "       {'lease', 'deal'},\n",
       "       {'5lbs', 'lose', '22', 'weeks', 'social', '3', 'ilug'},\n",
       "       {'quotes', 'insurance', 'health', 'free'},\n",
       "       {'nehrb', 'noch', 'kennst', 'mich'},\n",
       "       {'quotes', 'cost', 'mortgage', 'fast', 'adv', 'online'},\n",
       "       {'got', 'prices', '11956', 'ink'},\n",
       "       {'rvh', 'gb2312', 'b', 'ntduqrvxtcpsu9lazuxhp83yru1bsuy12na3tcs7'},\n",
       "       {'info', 'selected', 'hand', 'free'},\n",
       "       {'one', 'commission', 'three', 'streams', 'sale'},\n",
       "       {'mvcmv', 'garden', 'ornaments', 'ilug'},\n",
       "       {'one', 'pm', '11', 'money', '34', '9', '52', '02', '20', 'make'},\n",
       "       {'need', 'protect', 'computer', 'systemworks', 'coxr'},\n",
       "       {'private'}, {'put', 'old', '26792'}, {'night'}, {'girls'},\n",
       "       {'wm', 'rmay', 'n', 'ka', 'ekili', 'ini', 'greencard', '2004'},\n",
       "       {'zzzz', 'money'}, {'competition', 'dont', '7377'},\n",
       "       {'tobacco', 'price', 'low', 'social', 'ilug'},\n",
       "       {'month', 'spam', 'read', 'please', 'pc', '000', '4', 'ilug'},\n",
       "       {'remeber'}, {'closed', 'account'}, {'welcome', 'offerclub'},\n",
       "       {'work', '5000', 'month', 'home'},\n",
       "       {'best', 'mortgage', 'guaranteed', 'rate'},\n",
       "       {'quotes', 'cost', 'mortgage', 'fast', 'adv', 'online'},\n",
       "       {'zbm', 'future', \"family's\", 'planned'},\n",
       "       {'money', 'living', 'busy', 'make', 'earning'},\n",
       "       {'extensions', 'new', '14', '95'},\n",
       "       {'first', '50mg', 'generic', 'agra', 'v', 'time', 'per', '3'},\n",
       "       {'one', '100', 'earn', 'working', 'home', 'year', '000', 'ilug'},\n",
       "       {'one', '100', 'earn', 'working', 'home', 'year', '000'},\n",
       "       {'best', 'mortgage', 'guaranteed', 'rate'},\n",
       "       {'vwiid', 'fault', 'scoop'},\n",
       "       {'30', 'lowest', 'rates', 'years', 'interest', 'gain'},\n",
       "       {'expire', 'account', 'ebay'},\n",
       "       {'comp', 'wanted', '500', 'home', 'fortune', 'hiring', 'reps'},\n",
       "       {'ppu', 'ornaments', 'garden'},\n",
       "       {'maybe', 'fees', \"lender's\", 'save', '1', \"000's\", \"100's\", 'click'},\n",
       "       {'warranties', 'extended', 'iubrq', 'auto', 'adv'},\n",
       "       {'soon', 'anticaipting', 'hearing'},\n",
       "       {'thighs', 'butt', 'embarrass', 'hips'},\n",
       "       {'ptjti', 'rates', 'mortgage'}, {'time', 'dont', 'waste'},\n",
       "       {'10', '2002', 'ready', '5'},\n",
       "       {'join', 'details', 'get', 'ea', 'processing', '49', '4', 'dvds', 'shipping', 'inside'},\n",
       "       {'compete', 'mortgage', 'ivx', 'lenders'},\n",
       "       {'month', '6', 'edahx', '50', '000', 'low', 'per', '250'},\n",
       "       {'6801wbrq4', '19', 'systemworks', '2002', 'clearance', '940mjbj463', 'norton', 'sale'},\n",
       "       {'house', 'need', 'work', 'bills', 'rates', 'vacation', 'low', 'time', 'behind', 'refinance'},\n",
       "       {'need', 'card', 'credit', 'social', 'ilug'},\n",
       "       {'cell', 'boost', '10782', 'signal'},\n",
       "       {'uncover', '7', 'new', 'truth', 'anyone', 'version'},\n",
       "       {'shopping', 'create', 'computer', 'discount', 'isp', 'paycheck', 'cheap', 'enjoy', 'ilug'},\n",
       "       {'bucks', 'paying', 'cable', 'big', 'tired'},\n",
       "       {'6', 'new', 'congratulations', 'signups'},\n",
       "       {'get', 'tasting', 'free', 'kit', 'wine', 'bottle'},\n",
       "       {'house', '100', 'get', 'free', 'beat', 'royal', 'vegas'},\n",
       "       {'reveals', 'secret', 'american', 'source', 'millionaire', 'internet', 'wealth'},\n",
       "       {'week', '500', '3352', '2500', 'make', 'ebay'},\n",
       "       {'one', 'new', 'extensions', 'domain', 'social', 'register', 'ilug'},\n",
       "       {'free', 'last', '309', 'cqhcp', 'pick', 'trial', 'stock'},\n",
       "       {'financial', 'depend', 'power'}, {'fw', 'focus', 'value'},\n",
       "       {'dp', 'first', 'scared'}, {'xghtmtggc', 'mood'},\n",
       "       {'500', 'work', 'home', 'fortune', 'needed', 'reps'},\n",
       "       {'holidays', 'coming'},\n",
       "       {'shopping', 'create', 'computer', 'discount', 'isp', 'paycheck', 'cheap', 'enjoy', 'ilug'},\n",
       "       {'send', 'health', 'tell', 'card'},\n",
       "       {'zzzz', 'com', 'example', 'account'},\n",
       "       {'reach', 'act', 'hundreds', 'prospects'},\n",
       "       {'warranties', 'vfafu', 'extended', 'auto', 'adv'},\n",
       "       {'business', 'urgent', 'confidential', 'partnership'},\n",
       "       {'partnership'}, {'printer', 'cartridges', '21', '1', 'low'},\n",
       "       {'design', 'programming', 'build', 'consultation', 'webxperts', 'com', 'internet'},\n",
       "       {'insurance', 'free', 'quote', 'protected', 'life', 'adv', 'oefik'},\n",
       "       {'30', 'hosting', 'private', '9', '2002', 'reseller', 'label', 'expires'},\n",
       "       {'mortgage', 'possible', 'best'}, {'adult', 'access', 'free'},\n",
       "       {'got', 'plans', 'tonight'},\n",
       "       {'congratulations', 'get', 'free', 'organizer', 'handheld'},\n",
       "       {'publish', 'commissions', 'high'},\n",
       "       {'government', '000', '25', 'grants'},\n",
       "       {'free', 'orders', 'blair', 'com', 'shipping'},\n",
       "       {'viruses', 'protect', 'attn', 'sonlsnaik', 'harmful'},\n",
       "       {'never', '8simugq', 'pay', 'goodz'},\n",
       "       {'need', 'country', 'assistance', 'invest', 'ilug'},\n",
       "       {'kgwu92hsczsz8kjrnk71bnm7m', 'b', 'gb2312', '0rvn', 'c1qotls0tmjawm8tqnntcmcjvls00'},\n",
       "       {'14', 'year', 'names', 'domain', '95', 'per'},\n",
       "       {'money', 'free', 'away', 'stuff', 'giving', 'make'},\n",
       "       {'marketing', '16889', 'working', 'direct', 'fwd'},\n",
       "       {'sales', 'sky', 'see', 'company', 'rocket', '4611'},\n",
       "       {'cna', 'hit', 'road'},\n",
       "       {'hour', '10', 'watching', 'mmercials', 'joke', 'e'},\n",
       "       {'make', 'fortune', '24772', 'ebay'}, {'faeries'}], dtype=object)"
      ]
     },
     "execution_count": 16,
     "metadata": {},
     "output_type": "execute_result"
    }
   ],
   "source": [
    "# Now for the entire table\n",
    "Spam_data_table_spamonly = Spam_data_table.where(\"Spam\",True) \n",
    "Spam_data_table_token = Spam_data_table_spamonly.apply(token,\"Subject Line\") #.select(\"Subject\",\"Spam\").drop(0).select(\"Subject\",\"Spam\").relabel(\"Subject\",\"Subject Line\")\n",
    "Spam_data_table_token"
   ]
  },
  {
   "cell_type": "markdown",
   "metadata": {},
   "source": [
    "Now that we've tokenized all of the spam e-mails, get the frequency of each of the words that appears in spam."
   ]
  },
  {
   "cell_type": "code",
   "execution_count": 17,
   "metadata": {},
   "outputs": [
    {
     "data": {
      "text/html": [
       "<table border=\"1\" class=\"dataframe\">\n",
       "    <thead>\n",
       "        <tr>\n",
       "            <th>words</th> <th>count</th>\n",
       "        </tr>\n",
       "    </thead>\n",
       "    <tbody>\n",
       "        <tr>\n",
       "            <td>0    </td> <td>1    </td>\n",
       "        </tr>\n",
       "        <tr>\n",
       "            <td>00   </td> <td>1    </td>\n",
       "        </tr>\n",
       "        <tr>\n",
       "            <td>000  </td> <td>9    </td>\n",
       "        </tr>\n",
       "        <tr>\n",
       "            <td>000's</td> <td>1    </td>\n",
       "        </tr>\n",
       "        <tr>\n",
       "            <td>02   </td> <td>1    </td>\n",
       "        </tr>\n",
       "    </tbody>\n",
       "</table>\n",
       "<p>... (1130 rows omitted)</p>"
      ],
      "text/plain": [
       "<IPython.core.display.HTML object>"
      ]
     },
     "metadata": {},
     "output_type": "display_data"
    }
   ],
   "source": [
    "# Get counts and frequency\n",
    "# Flatten first\n",
    "spam_words = [item for sublist in Spam_data_table_token for item in sublist]\n",
    "# Put into a table\n",
    "spam_table = ds.Table().with_column(\"words\",spam_words)\n",
    "spam_word_counts = spam_table.group(\"words\")\n",
    "spam_word_counts.show(5)"
   ]
  },
  {
   "cell_type": "code",
   "execution_count": 18,
   "metadata": {},
   "outputs": [
    {
     "name": "stdout",
     "output_type": "stream",
     "text": [
      "There are 1135 unique words in the tokenized spam subject lines.\n"
     ]
    }
   ],
   "source": [
    "print(\"There are\",spam_word_counts.num_rows,\"unique words in the tokenized spam subject lines.\")"
   ]
  },
  {
   "cell_type": "markdown",
   "metadata": {},
   "source": [
    "Next we want to create a column that has the subject line frequency of each word. This is the percentage of subject lines in the spam emails that contain the word of interest. We also sort the table from most frequent to least frequent."
   ]
  },
  {
   "cell_type": "code",
   "execution_count": 19,
   "metadata": {},
   "outputs": [
    {
     "data": {
      "text/html": [
       "<table border=\"1\" class=\"dataframe\">\n",
       "    <thead>\n",
       "        <tr>\n",
       "            <th>words</th> <th>count</th> <th>Spam Subject Line Frequency</th>\n",
       "        </tr>\n",
       "    </thead>\n",
       "    <tbody>\n",
       "        <tr>\n",
       "            <td>0               </td> <td>1    </td> <td>0.0020                     </td>\n",
       "        </tr>\n",
       "        <tr>\n",
       "            <td>00              </td> <td>1    </td> <td>0.0020                     </td>\n",
       "        </tr>\n",
       "        <tr>\n",
       "            <td>000             </td> <td>9    </td> <td>0.0180                     </td>\n",
       "        </tr>\n",
       "        <tr>\n",
       "            <td>000's           </td> <td>1    </td> <td>0.0020                     </td>\n",
       "        </tr>\n",
       "        <tr>\n",
       "            <td>02              </td> <td>1    </td> <td>0.0020                     </td>\n",
       "        </tr>\n",
       "        <tr>\n",
       "            <td>05              </td> <td>1    </td> <td>0.0020                     </td>\n",
       "        </tr>\n",
       "        <tr>\n",
       "            <td>05775748        </td> <td>1    </td> <td>0.0020                     </td>\n",
       "        </tr>\n",
       "        <tr>\n",
       "            <td>057sxua1524uhkc5</td> <td>1    </td> <td>0.0020                     </td>\n",
       "        </tr>\n",
       "        <tr>\n",
       "            <td>08              </td> <td>1    </td> <td>0.0020                     </td>\n",
       "        </tr>\n",
       "        <tr>\n",
       "            <td>0989sqj         </td> <td>1    </td> <td>0.0020                     </td>\n",
       "        </tr>\n",
       "    </tbody>\n",
       "</table>\n",
       "<p>... (1125 rows omitted)</p>"
      ],
      "text/plain": [
       "words            | count | Spam Subject Line Frequency\n",
       "0                | 1     | 0.0020\n",
       "00               | 1     | 0.0020\n",
       "000              | 9     | 0.0180\n",
       "000's            | 1     | 0.0020\n",
       "02               | 1     | 0.0020\n",
       "05               | 1     | 0.0020\n",
       "05775748         | 1     | 0.0020\n",
       "057sxua1524uhkc5 | 1     | 0.0020\n",
       "08               | 1     | 0.0020\n",
       "0989sqj          | 1     | 0.0020\n",
       "... (1125 rows omitted)"
      ]
     },
     "execution_count": 19,
     "metadata": {},
     "output_type": "execute_result"
    }
   ],
   "source": [
    "# Execute this cell of code\n",
    "spam_word_counts = spam_word_counts.with_column('Spam Subject Line Frequency',spam_word_counts.column('count')/500).\\\n",
    "set_format(\"Spam Subject Line Frequency\", ds.NumberFormatter(decimals=4))\n",
    "spam_word_counts"
   ]
  },
  {
   "cell_type": "code",
   "execution_count": 20,
   "metadata": {},
   "outputs": [
    {
     "data": {
      "text/html": [
       "<table border=\"1\" class=\"dataframe\">\n",
       "    <thead>\n",
       "        <tr>\n",
       "            <th>words</th> <th>count</th> <th>Spam Subject Line Frequency</th>\n",
       "        </tr>\n",
       "    </thead>\n",
       "    <tbody>\n",
       "        <tr>\n",
       "            <td>ilug </td> <td>46   </td> <td>0.0920                     </td>\n",
       "        </tr>\n",
       "    </tbody>\n",
       "</table>"
      ],
      "text/plain": [
       "words | count | Spam Subject Line Frequency\n",
       "ilug  | 46    | 0.0920"
      ]
     },
     "execution_count": 20,
     "metadata": {},
     "output_type": "execute_result"
    }
   ],
   "source": [
    "spam_word_counts.where(\"words\",\"ilug\")"
   ]
  },
  {
   "cell_type": "markdown",
   "metadata": {},
   "source": [
    "To summarize, 9.2% of the subject lines in the spam emails contain the word `ilug`. As a reminder, the vocabulary of words in the spam subject line consists of 2408 words where 1135 are unique words."
   ]
  },
  {
   "cell_type": "code",
   "execution_count": 21,
   "metadata": {},
   "outputs": [
    {
     "data": {
      "text/plain": [
       "1135"
      ]
     },
     "execution_count": 21,
     "metadata": {},
     "output_type": "execute_result"
    }
   ],
   "source": [
    "spam_word_counts.num_rows"
   ]
  },
  {
   "cell_type": "markdown",
   "metadata": {},
   "source": [
    "Find the total of the spam word count column in `spam_word_counts`. "
   ]
  },
  {
   "cell_type": "code",
   "execution_count": 22,
   "metadata": {},
   "outputs": [
    {
     "data": {
      "text/plain": [
       "2408"
      ]
     },
     "execution_count": 22,
     "metadata": {},
     "output_type": "execute_result"
    }
   ],
   "source": [
    "sum_spam_word_counts = sum(spam_word_counts.column(\"count\"))\n",
    "sum_spam_word_counts"
   ]
  },
  {
   "cell_type": "markdown",
   "metadata": {},
   "source": [
    "Some of the words only occur once. Let's look at some of them."
   ]
  },
  {
   "cell_type": "markdown",
   "metadata": {},
   "source": [
    "## In the table below, is spam count supposed to show the number of times this words shows up in the spam subject lines? If that is the case, it will always be 1. So why bother to include that as a column? Frequency will also always be 0.002 if recorded similarly. . . "
   ]
  },
  {
   "cell_type": "code",
   "execution_count": 23,
   "metadata": {},
   "outputs": [
    {
     "data": {
      "text/html": [
       "<table border=\"1\" class=\"dataframe\">\n",
       "    <thead>\n",
       "        <tr>\n",
       "            <th>words</th> <th>spam count</th> <th>frequency</th>\n",
       "        </tr>\n",
       "    </thead>\n",
       "    <tbody>\n",
       "        <tr>\n",
       "            <td>0               </td> <td>1         </td> <td>0.002    </td>\n",
       "        </tr>\n",
       "        <tr>\n",
       "            <td>00              </td> <td>1         </td> <td>0.002    </td>\n",
       "        </tr>\n",
       "        <tr>\n",
       "            <td>000's           </td> <td>1         </td> <td>0.002    </td>\n",
       "        </tr>\n",
       "        <tr>\n",
       "            <td>02              </td> <td>1         </td> <td>0.002    </td>\n",
       "        </tr>\n",
       "        <tr>\n",
       "            <td>05              </td> <td>1         </td> <td>0.002    </td>\n",
       "        </tr>\n",
       "        <tr>\n",
       "            <td>05775748        </td> <td>1         </td> <td>0.002    </td>\n",
       "        </tr>\n",
       "        <tr>\n",
       "            <td>057sxua1524uhkc5</td> <td>1         </td> <td>0.002    </td>\n",
       "        </tr>\n",
       "        <tr>\n",
       "            <td>08              </td> <td>1         </td> <td>0.002    </td>\n",
       "        </tr>\n",
       "        <tr>\n",
       "            <td>0989sqj         </td> <td>1         </td> <td>0.002    </td>\n",
       "        </tr>\n",
       "        <tr>\n",
       "            <td>0rvn            </td> <td>1         </td> <td>0.002    </td>\n",
       "        </tr>\n",
       "    </tbody>\n",
       "</table>\n",
       "<p>... (720 rows omitted)</p>"
      ],
      "text/plain": [
       "words            | spam count | frequency\n",
       "0                | 1          | 0.002\n",
       "00               | 1          | 0.002\n",
       "000's            | 1          | 0.002\n",
       "02               | 1          | 0.002\n",
       "05               | 1          | 0.002\n",
       "05775748         | 1          | 0.002\n",
       "057sxua1524uhkc5 | 1          | 0.002\n",
       "08               | 1          | 0.002\n",
       "0989sqj          | 1          | 0.002\n",
       "0rvn             | 1          | 0.002\n",
       "... (720 rows omitted)"
      ]
     },
     "execution_count": 23,
     "metadata": {},
     "output_type": "execute_result"
    }
   ],
   "source": [
    "# Create a table of words where the word only occurs once. There should be three columns, word, spam count and frequency.\n",
    "one_time_word = spam_word_counts.where(\"count\", 1) #.drop(1) #drop the \"counts\" column\n",
    "#print(one_time_word)\n",
    "spam_word_one = ds.Table().with_columns(\"words\",one_time_word.column(\"words\"),\"spam count\", one_time_word.column(\"count\"),\"frequency\",\\\n",
    "                                    one_time_word.column(\"count\")/500)\n",
    "spam_word_one "
   ]
  },
  {
   "cell_type": "markdown",
   "metadata": {},
   "source": [
    "To visualize the results so far, we will use a bar chart. Create a bar chart showing the frequency of the 15 most frequent words that appear in spam subject lines."
   ]
  },
  {
   "cell_type": "code",
   "execution_count": 24,
   "metadata": {},
   "outputs": [
    {
     "data": {
      "image/png": "[encoded data removed]",
      "text/plain": [
       "<Figure size 432x540 with 1 Axes>"
      ]
     },
     "metadata": {},
     "output_type": "display_data"
    }
   ],
   "source": [
    "# Create a horizontal bar chart\n",
    "top_15_frequent = spam_word_counts.sort(\"Spam Subject Line Frequency\", descending = True).take(np.arange(15))\n",
    "#print(top_15_frequent)\n",
    "results_chart = top_15_frequent.barh(\"words\",\"count\")"
   ]
  },
  {
   "cell_type": "markdown",
   "metadata": {},
   "source": [
    "### Ham e-mails"
   ]
  },
  {
   "cell_type": "markdown",
   "metadata": {},
   "source": [
    "Repeat this work for the ham e-mails. First, tokenize the ham subject lines."
   ]
  },
  {
   "cell_type": "code",
   "execution_count": 25,
   "metadata": {},
   "outputs": [
    {
     "data": {
      "text/plain": [
       "array([{'new', 'sequences', 'window'}, {'alexander', 'zzzzteana'},\n",
       "       {'moscow', 'bomber', 'zzzzteana'}, ...,\n",
       "       {'javaserver', 'pages', 'updated'},\n",
       "       {'digest', 'announce', '180', 'linux'},\n",
       "       {'spam', '00', 'sourceforge', 'net', 'list', '08', 'lists', 'memberships', 'reminder', 'mailing'}],\n",
       "      dtype=object)"
      ]
     },
     "execution_count": 25,
     "metadata": {},
     "output_type": "execute_result"
    }
   ],
   "source": [
    "Ham_data_table_hamonly = Spam_data_table.where(\"Spam\",False)\n",
    "#print(Ham_data_table_hamonly)\n",
    "Ham_data_table_token = Ham_data_table_hamonly.apply(token,\"Subject Line\")\n",
    "Ham_data_table_token"
   ]
  },
  {
   "cell_type": "markdown",
   "metadata": {},
   "source": [
    "Find the word counts for words that appeared in ham subject lines."
   ]
  },
  {
   "cell_type": "code",
   "execution_count": 26,
   "metadata": {},
   "outputs": [
    {
     "data": {
      "text/html": [
       "<table border=\"1\" class=\"dataframe\">\n",
       "    <thead>\n",
       "        <tr>\n",
       "            <th>words</th> <th>count</th>\n",
       "        </tr>\n",
       "    </thead>\n",
       "    <tbody>\n",
       "        <tr>\n",
       "            <td>'apt      </td> <td>3    </td>\n",
       "        </tr>\n",
       "        <tr>\n",
       "            <td>'betrayal'</td> <td>1    </td>\n",
       "        </tr>\n",
       "        <tr>\n",
       "            <td>'boost    </td> <td>1    </td>\n",
       "        </tr>\n",
       "        <tr>\n",
       "            <td>'boosts   </td> <td>1    </td>\n",
       "        </tr>\n",
       "        <tr>\n",
       "            <td>'bust'    </td> <td>1    </td>\n",
       "        </tr>\n",
       "    </tbody>\n",
       "</table>\n",
       "<p>... (3722 rows omitted)</p>"
      ],
      "text/plain": [
       "<IPython.core.display.HTML object>"
      ]
     },
     "metadata": {},
     "output_type": "display_data"
    }
   ],
   "source": [
    "# Get counts and frequency\n",
    "# Flatten first\n",
    "ham_words = [item for sublist in Ham_data_table_token for item in sublist]\n",
    "# Put into a table\n",
    "ham_table = ds.Table().with_column(\"words\",ham_words)\n",
    "ham_word_counts = ham_table.group(\"words\")\n",
    "ham_word_counts.show(5)"
   ]
  },
  {
   "cell_type": "code",
   "execution_count": 27,
   "metadata": {},
   "outputs": [
    {
     "name": "stdout",
     "output_type": "stream",
     "text": [
      "There are 3727 unique words in the tokenized ham subject lines.\n"
     ]
    }
   ],
   "source": [
    "print(\"There are\",ham_word_counts.num_rows,\"unique words in the tokenized ham subject lines.\")"
   ]
  },
  {
   "cell_type": "code",
   "execution_count": 28,
   "metadata": {},
   "outputs": [
    {
     "name": "stdout",
     "output_type": "stream",
     "text": [
      "There are 12163 tokenized words in the ham subject lines.\n"
     ]
    }
   ],
   "source": [
    "sum_ham_word_counts = ham_table.num_rows\n",
    "print(\"There are\",sum_ham_word_counts,\"tokenized words in the ham subject lines.\")"
   ]
  },
  {
   "cell_type": "code",
   "execution_count": 29,
   "metadata": {},
   "outputs": [
    {
     "data": {
      "text/html": [
       "<table border=\"1\" class=\"dataframe\">\n",
       "    <thead>\n",
       "        <tr>\n",
       "            <th>words</th> <th>count</th> <th>Ham Subject Line Frequency</th>\n",
       "        </tr>\n",
       "    </thead>\n",
       "    <tbody>\n",
       "        <tr>\n",
       "            <td>'apt      </td> <td>3    </td> <td>0.0011                    </td>\n",
       "        </tr>\n",
       "        <tr>\n",
       "            <td>'betrayal'</td> <td>1    </td> <td>0.0004                    </td>\n",
       "        </tr>\n",
       "        <tr>\n",
       "            <td>'boost    </td> <td>1    </td> <td>0.0004                    </td>\n",
       "        </tr>\n",
       "        <tr>\n",
       "            <td>'boosts   </td> <td>1    </td> <td>0.0004                    </td>\n",
       "        </tr>\n",
       "        <tr>\n",
       "            <td>'bust'    </td> <td>1    </td> <td>0.0004                    </td>\n",
       "        </tr>\n",
       "        <tr>\n",
       "            <td>'cancer   </td> <td>1    </td> <td>0.0004                    </td>\n",
       "        </tr>\n",
       "        <tr>\n",
       "            <td>'could    </td> <td>1    </td> <td>0.0004                    </td>\n",
       "        </tr>\n",
       "        <tr>\n",
       "            <td>'em       </td> <td>1    </td> <td>0.0004                    </td>\n",
       "        </tr>\n",
       "        <tr>\n",
       "            <td>'face     </td> <td>1    </td> <td>0.0004                    </td>\n",
       "        </tr>\n",
       "        <tr>\n",
       "            <td>'flexible'</td> <td>1    </td> <td>0.0004                    </td>\n",
       "        </tr>\n",
       "    </tbody>\n",
       "</table>\n",
       "<p>... (3717 rows omitted)</p>"
      ],
      "text/plain": [
       "words      | count | Ham Subject Line Frequency\n",
       "'apt       | 3     | 0.0011\n",
       "'betrayal' | 1     | 0.0004\n",
       "'boost     | 1     | 0.0004\n",
       "'boosts    | 1     | 0.0004\n",
       "'bust'     | 1     | 0.0004\n",
       "'cancer    | 1     | 0.0004\n",
       "'could     | 1     | 0.0004\n",
       "'em        | 1     | 0.0004\n",
       "'face      | 1     | 0.0004\n",
       "'flexible' | 1     | 0.0004\n",
       "... (3717 rows omitted)"
      ]
     },
     "execution_count": 29,
     "metadata": {},
     "output_type": "execute_result"
    }
   ],
   "source": [
    "ham_word_counts = ham_word_counts.with_column('Ham Subject Line Frequency',ham_word_counts.column('count')/2800).\\\n",
    "set_format(\"Ham Subject Line Frequency\", ds.NumberFormatter(decimals=4))\n",
    "ham_word_counts"
   ]
  },
  {
   "cell_type": "markdown",
   "metadata": {},
   "source": [
    "Make a barplot showing the frequency of the 15 most frequent words that appear in ham subject lines. "
   ]
  },
  {
   "cell_type": "code",
   "execution_count": 30,
   "metadata": {},
   "outputs": [
    {
     "data": {
      "image/png": "[encoded data removed]",
      "text/plain": [
       "<Figure size 432x540 with 1 Axes>"
      ]
     },
     "metadata": {},
     "output_type": "display_data"
    }
   ],
   "source": [
    "top_15_frequent_ham = ham_word_counts.sort(\"Ham Subject Line Frequency\", descending = True).take(np.arange(15))\n",
    "#print(top_15_frequent)\n",
    "results_chart = top_15_frequent_ham.barh(\"words\",\"count\")"
   ]
  },
  {
   "cell_type": "markdown",
   "metadata": {},
   "source": [
    "There are 12163 words in the ham email subject lines of which 3727 are unique. Which words appear only once?"
   ]
  },
  {
   "cell_type": "code",
   "execution_count": 31,
   "metadata": {},
   "outputs": [
    {
     "data": {
      "text/plain": [
       "array([\"'betrayal'\", \"'boost\", \"'boosts\", ..., 'zombies', 'zone', 'zoo'],\n",
       "      dtype='<U51')"
      ]
     },
     "execution_count": 31,
     "metadata": {},
     "output_type": "execute_result"
    }
   ],
   "source": [
    "ham_word_one = ham_word_counts.where(\"count\",1).column(\"words\")\n",
    "ham_word_one"
   ]
  },
  {
   "cell_type": "markdown",
   "metadata": {},
   "source": [
    "As a reminder, in the spam subject line there are 1135 unique words while there are 3727 in the ham. When we merge these data sets there will only be partial overlap."
   ]
  },
  {
   "cell_type": "code",
   "execution_count": 32,
   "metadata": {},
   "outputs": [
    {
     "data": {
      "text/plain": [
       "1135"
      ]
     },
     "execution_count": 32,
     "metadata": {},
     "output_type": "execute_result"
    }
   ],
   "source": [
    "spam_word_counts.num_rows #Number of unique words in spam subject lines"
   ]
  },
  {
   "cell_type": "code",
   "execution_count": 33,
   "metadata": {},
   "outputs": [
    {
     "data": {
      "text/plain": [
       "3727"
      ]
     },
     "execution_count": 33,
     "metadata": {},
     "output_type": "execute_result"
    }
   ],
   "source": [
    "ham_word_counts.num_rows #Number of unique words in ham subject lines"
   ]
  },
  {
   "cell_type": "markdown",
   "metadata": {},
   "source": [
    "There are many more words in the ham subject lines than in the spam subject lines. We need to get one table with the words and counts. This will increase the number of rows for the spam. The built-in join function from the `datascience` package only performs an inner joining. We need to perform an outer join. We cannot determine how to do this with the join function from `datascience` so let's convert the table to pandas dataframes and then perform an outer join, see https://www.shanelynn.ie/merge-join-dataframes-python-pandas-index-1/. By default, pandas repalces missing values with NaN, not a number. We must replace those missing values with 0. Finally, we can convert back to a datascience table."
   ]
  },
  {
   "cell_type": "code",
   "execution_count": 34,
   "metadata": {},
   "outputs": [
    {
     "data": {
      "text/html": [
       "<table border=\"1\" class=\"dataframe\">\n",
       "    <thead>\n",
       "        <tr>\n",
       "            <th>words</th> <th>Ham Count</th> <th>Ham Subject Line Frequency</th>\n",
       "        </tr>\n",
       "    </thead>\n",
       "    <tbody>\n",
       "        <tr>\n",
       "            <td>satalk   </td> <td>141      </td> <td>0.0504                    </td>\n",
       "        </tr>\n",
       "        <tr>\n",
       "            <td>spambayes</td> <td>135      </td> <td>0.0482                    </td>\n",
       "        </tr>\n",
       "        <tr>\n",
       "            <td>new      </td> <td>117      </td> <td>0.0418                    </td>\n",
       "        </tr>\n",
       "        <tr>\n",
       "            <td>users    </td> <td>108      </td> <td>0.0386                    </td>\n",
       "        </tr>\n",
       "        <tr>\n",
       "            <td>2        </td> <td>108      </td> <td>0.0386                    </td>\n",
       "        </tr>\n",
       "        <tr>\n",
       "            <td>ilug     </td> <td>94       </td> <td>0.0336                    </td>\n",
       "        </tr>\n",
       "        <tr>\n",
       "            <td>use      </td> <td>91       </td> <td>0.0325                    </td>\n",
       "        </tr>\n",
       "        <tr>\n",
       "            <td>razor    </td> <td>91       </td> <td>0.0325                    </td>\n",
       "        </tr>\n",
       "        <tr>\n",
       "            <td>2002     </td> <td>89       </td> <td>0.0318                    </td>\n",
       "        </tr>\n",
       "        <tr>\n",
       "            <td>zzzzteana</td> <td>87       </td> <td>0.0311                    </td>\n",
       "        </tr>\n",
       "    </tbody>\n",
       "</table>\n",
       "<p>... (3717 rows omitted)</p>"
      ],
      "text/plain": [
       "words     | Ham Count | Ham Subject Line Frequency\n",
       "satalk    | 141       | 0.0504\n",
       "spambayes | 135       | 0.0482\n",
       "new       | 117       | 0.0418\n",
       "users     | 108       | 0.0386\n",
       "2         | 108       | 0.0386\n",
       "ilug      | 94        | 0.0336\n",
       "use       | 91        | 0.0325\n",
       "razor     | 91        | 0.0325\n",
       "2002      | 89        | 0.0318\n",
       "zzzzteana | 87        | 0.0311\n",
       "... (3717 rows omitted)"
      ]
     },
     "execution_count": 34,
     "metadata": {},
     "output_type": "execute_result"
    }
   ],
   "source": [
    "ham_word_counts=ham_word_counts.relabeled('count','Ham Count')\n",
    "ham_word_counts.sort(1,descending=True)"
   ]
  },
  {
   "cell_type": "code",
   "execution_count": 35,
   "metadata": {},
   "outputs": [
    {
     "data": {
      "text/html": [
       "<table border=\"1\" class=\"dataframe\">\n",
       "    <thead>\n",
       "        <tr>\n",
       "            <th>words</th> <th>count</th> <th>Spam Subject Line Frequency</th>\n",
       "        </tr>\n",
       "    </thead>\n",
       "    <tbody>\n",
       "        <tr>\n",
       "            <td>ilug       </td> <td>46   </td> <td>0.0920                     </td>\n",
       "        </tr>\n",
       "        <tr>\n",
       "            <td>free       </td> <td>32   </td> <td>0.0640                     </td>\n",
       "        </tr>\n",
       "        <tr>\n",
       "            <td>get        </td> <td>20   </td> <td>0.0400                     </td>\n",
       "        </tr>\n",
       "        <tr>\n",
       "            <td>adv        </td> <td>20   </td> <td>0.0400                     </td>\n",
       "        </tr>\n",
       "        <tr>\n",
       "            <td>rates      </td> <td>18   </td> <td>0.0360                     </td>\n",
       "        </tr>\n",
       "        <tr>\n",
       "            <td>home       </td> <td>18   </td> <td>0.0360                     </td>\n",
       "        </tr>\n",
       "        <tr>\n",
       "            <td>money      </td> <td>17   </td> <td>0.0340                     </td>\n",
       "        </tr>\n",
       "        <tr>\n",
       "            <td>best       </td> <td>17   </td> <td>0.0340                     </td>\n",
       "        </tr>\n",
       "        <tr>\n",
       "            <td>systemworks</td> <td>15   </td> <td>0.0300                     </td>\n",
       "        </tr>\n",
       "        <tr>\n",
       "            <td>2002       </td> <td>15   </td> <td>0.0300                     </td>\n",
       "        </tr>\n",
       "    </tbody>\n",
       "</table>\n",
       "<p>... (1125 rows omitted)</p>"
      ],
      "text/plain": [
       "words       | count | Spam Subject Line Frequency\n",
       "ilug        | 46    | 0.0920\n",
       "free        | 32    | 0.0640\n",
       "get         | 20    | 0.0400\n",
       "adv         | 20    | 0.0400\n",
       "rates       | 18    | 0.0360\n",
       "home        | 18    | 0.0360\n",
       "money       | 17    | 0.0340\n",
       "best        | 17    | 0.0340\n",
       "systemworks | 15    | 0.0300\n",
       "2002        | 15    | 0.0300\n",
       "... (1125 rows omitted)"
      ]
     },
     "execution_count": 35,
     "metadata": {},
     "output_type": "execute_result"
    }
   ],
   "source": [
    "spam_word_counts=spam_word_counts # .relabeled(\"count\",\"Spam Count\")\n",
    "spam_word_counts.sort(1,descending=True)"
   ]
  },
  {
   "cell_type": "code",
   "execution_count": 46,
   "metadata": {},
   "outputs": [
    {
     "data": {
      "text/html": [
       "<table border=\"1\" class=\"dataframe\">\n",
       "    <thead>\n",
       "        <tr>\n",
       "            <th>words</th> <th>Ham Count</th> <th>Ham Subject Line Frequency</th> <th>count</th> <th>Spam Subject Line Frequency</th>\n",
       "        </tr>\n",
       "    </thead>\n",
       "    <tbody>\n",
       "        <tr>\n",
       "            <td>satalk   </td> <td>141      </td> <td>0.0503571                 </td> <td>1    </td> <td>0.002                      </td>\n",
       "        </tr>\n",
       "        <tr>\n",
       "            <td>spambayes</td> <td>135      </td> <td>0.0482143                 </td> <td>0    </td> <td>0                          </td>\n",
       "        </tr>\n",
       "        <tr>\n",
       "            <td>new      </td> <td>117      </td> <td>0.0417857                 </td> <td>13   </td> <td>0.026                      </td>\n",
       "        </tr>\n",
       "        <tr>\n",
       "            <td>users    </td> <td>108      </td> <td>0.0385714                 </td> <td>0    </td> <td>0                          </td>\n",
       "        </tr>\n",
       "        <tr>\n",
       "            <td>2        </td> <td>108      </td> <td>0.0385714                 </td> <td>3    </td> <td>0.006                      </td>\n",
       "        </tr>\n",
       "        <tr>\n",
       "            <td>ilug     </td> <td>94       </td> <td>0.0335714                 </td> <td>46   </td> <td>0.092                      </td>\n",
       "        </tr>\n",
       "        <tr>\n",
       "            <td>use      </td> <td>91       </td> <td>0.0325                    </td> <td>2    </td> <td>0.004                      </td>\n",
       "        </tr>\n",
       "        <tr>\n",
       "            <td>razor    </td> <td>91       </td> <td>0.0325                    </td> <td>0    </td> <td>0                          </td>\n",
       "        </tr>\n",
       "        <tr>\n",
       "            <td>2002     </td> <td>89       </td> <td>0.0317857                 </td> <td>15   </td> <td>0.03                       </td>\n",
       "        </tr>\n",
       "        <tr>\n",
       "            <td>zzzzteana</td> <td>87       </td> <td>0.0310714                 </td> <td>0    </td> <td>0                          </td>\n",
       "        </tr>\n",
       "    </tbody>\n",
       "</table>\n",
       "<p>... (4401 rows omitted)</p>"
      ],
      "text/plain": [
       "words     | Ham Count | Ham Subject Line Frequency | count | Spam Subject Line Frequency\n",
       "satalk    | 141       | 0.0503571                  | 1     | 0.002\n",
       "spambayes | 135       | 0.0482143                  | 0     | 0\n",
       "new       | 117       | 0.0417857                  | 13    | 0.026\n",
       "users     | 108       | 0.0385714                  | 0     | 0\n",
       "2         | 108       | 0.0385714                  | 3     | 0.006\n",
       "ilug      | 94        | 0.0335714                  | 46    | 0.092\n",
       "use       | 91        | 0.0325                     | 2     | 0.004\n",
       "razor     | 91        | 0.0325                     | 0     | 0\n",
       "2002      | 89        | 0.0317857                  | 15    | 0.03\n",
       "zzzzteana | 87        | 0.0310714                  | 0     | 0\n",
       "... (4401 rows omitted)"
      ]
     },
     "execution_count": 46,
     "metadata": {},
     "output_type": "execute_result"
    }
   ],
   "source": [
    "# Execute this cell\n",
    "# Convert data.science table to pandas dataframe\n",
    "word_counts = pd.merge(ham_word_counts.to_df(),spam_word_counts.to_df(),how=\"outer\").fillna(0)\n",
    "word_counts = ds.Table.from_df(word_counts)\n",
    "word_counts.sort(2,descending=True)"
   ]
  },
  {
   "cell_type": "markdown",
   "metadata": {},
   "source": [
    "Let's visualize the results by looking at the most common words in the ham subject lines."
   ]
  },
  {
   "cell_type": "code",
   "execution_count": 50,
   "metadata": {},
   "outputs": [
    {
     "data": {
      "image/png": "[encoded data removed]",
      "text/plain": [
       "<Figure size 432x360 with 1 Axes>"
      ]
     },
     "metadata": {},
     "output_type": "display_data"
    }
   ],
   "source": [
    "# Execute this \n",
    "highest_ham = word_counts.sort(\"Ham Subject Line Frequency\",descending=True)\n",
    "highest_ham.take(np.arange(10)).select('words','Ham Subject Line Frequency','Spam Subject Line Frequency').barh('words')"
   ]
  },
  {
   "cell_type": "markdown",
   "metadata": {},
   "source": [
    "Now, create the same visualization but with the most common words in the spam emails. "
   ]
  },
  {
   "cell_type": "code",
   "execution_count": 38,
   "metadata": {},
   "outputs": [
    {
     "data": {
      "image/png": "[encoded data removed]",
      "text/plain": [
       "<Figure size 432x360 with 1 Axes>"
      ]
     },
     "metadata": {},
     "output_type": "display_data"
    }
   ],
   "source": [
    "highest_spam = word_counts.sort('Spam Subject Line Frequency',descending = True)\n",
    "#print(highest_spam)\n",
    "highest_spam.take(np.arange(10)).select('words','Ham Subject Line Frequency','Spam Subject Line Frequency').barh('words')"
   ]
  },
  {
   "cell_type": "markdown",
   "metadata": {},
   "source": [
    "What do you notice about words that appear in spam and ham e-mail subject lines? "
   ]
  },
  {
   "cell_type": "markdown",
   "metadata": {},
   "source": [
    "#### There is some overlap between the top ten most frequent words in both the spam and ham email subject lines. In both types of emails, 'ilug' and '2002' are among the top ten most frequently appearing. '2002' and 'new' are the two words with comparable frequencies in both the spam and ham categories. Only 3-4 of the top ten most frequent words in either category do NOT appear at all in the other category. The spam word 'ilug' appears almost twice as frequently as the most frequent ham word."
   ]
  },
  {
   "cell_type": "markdown",
   "metadata": {},
   "source": [
    "#### References\n"
   ]
  },
  {
   "cell_type": "markdown",
   "metadata": {},
   "source": [
    "https://www.analyticsvidhya.com/blog/2017/09/naive-bayes-explained/\n",
    "http://localhost:8888/notebooks/Documents/Classes/Books/Stats/Python%20Data%20Science%20Handbook/PythonDataScienceHandbook-master/notebooks/05.05-Naive-Bayes.ipynb"
   ]
  }
 ],
 "metadata": {
  "kernelspec": {
   "display_name": "Python 3",
   "language": "python",
   "name": "python3"
  },
  "language_info": {
   "codemirror_mode": {
    "name": "ipython",
    "version": 3
   },
   "file_extension": ".py",
   "mimetype": "text/x-python",
   "name": "python",
   "nbconvert_exporter": "python",
   "pygments_lexer": "ipython3",
   "version": "3.6.5"
  }
 },
 "nbformat": 4,
 "nbformat_minor": 2
}
