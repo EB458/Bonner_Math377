{
 "cells": [
  {
   "cell_type": "code",
   "execution_count": 3,
   "metadata": {},
   "outputs": [],
   "source": [
    "from datascience import *\n",
    "import numpy as np\n",
    "from math import *\n",
    "from scipy import stats\n",
    "import matplotlib.pyplot as plt\n",
    "%matplotlib inline"
   ]
  },
  {
   "cell_type": "markdown",
   "metadata": {},
   "source": [
    "## Lesson 23: Hypothesis Testing, Continued"
   ]
  },
  {
   "cell_type": "markdown",
   "metadata": {},
   "source": [
    "Recall in Lesson 22, we covered hypothesis testing. The structure of a hypothesis test is largely similar regardless of the context of the problem. We state the hypotheses, decide on a test statistic, calculate the $p$-value and reach a conclusion. To calculate a $p$-value, we need to find the distribution of the test statistic under the null hypothesis. "
   ]
  },
  {
   "cell_type": "markdown",
   "metadata": {},
   "source": [
    "### Example 1: The Lady Tasting Tea\n",
    "\n",
    "The \"lady tasting tea\" problem is a now famous story during which, at a gathering one summer afternoon in Cambridge, some friends drank tea with milk. Among them, a woman claimed to be able to tell, based on taste, whether the milk or the tea was added first to the cup. A now famous statistician, Ronald Fisher, was at the gathering, and he studied the claim. The woman was offered 8 cups of tea mixed with milk (4 with milk added first and 4 with tea added first) and she successfully identified 6 (3 of each). What can we say about her ability to discriminate the teas? \n",
    "The woman was aware that four cups were poured milk first, and four were poured with tea first.\n",
    "##### (This is a hyper-geometric problem.)"
   ]
  },
  {
   "cell_type": "markdown",
   "metadata": {},
   "source": [
    "Step 1: State null (the one you're trying to disprove, should include equality) and alternate hypotheses\n",
    "##### Answer: Hn = the probability that the woman picks correctly is due to chance, 50%-50%. She cannot predict with any consistency/beyond randomness. Ha = the woman can predict with consistency whether or not tea was added first."
   ]
  },
  {
   "cell_type": "markdown",
   "metadata": {},
   "source": [
    "Step 2: determine/calculate a test statistic (a way to measure the null hypothesis against the data collected, quantify the difference between the two)\n",
    "##### Answer: number of times she correctly chose that tea was poured first (if you know this you can find the other)."
   ]
  },
  {
   "cell_type": "markdown",
   "metadata": {},
   "source": [
    "If Hn true, \n",
    "$X~Hypergeom(M=8,n=4,N=4)$\n",
    "\n",
    "#### M = # teacups\n",
    "#### n = # choices\n",
    "#### N = # \n",
    "#### Xobs = 3,  We observed that she got three right (when considering the cups filled tea first)"
   ]
  },
  {
   "cell_type": "code",
   "execution_count": 6,
   "metadata": {},
   "outputs": [
    {
     "data": {
      "text/plain": [
       "array([2, 1, 1, 3, 3, 2, 2, 4, 2, 1])"
      ]
     },
     "execution_count": 6,
     "metadata": {},
     "output_type": "execute_result"
    }
   ],
   "source": [
    "M,n,N=8,4,4\n",
    "stats.hypergeom.rvs(M,n,N,size=10)"
   ]
  },
  {
   "cell_type": "markdown",
   "metadata": {},
   "source": [
    "Step 3: determine the distribution of the test statistic (under the null hypothesis) and compute a p-value (represents probability of getting the test statistic or \"weirder\") \n",
    "##### p-value, in this problem, is the probability that the woman will get three or more right on average.\n"
   ]
  },
  {
   "cell_type": "code",
   "execution_count": 8,
   "metadata": {},
   "outputs": [
    {
     "name": "stdout",
     "output_type": "stream",
     "text": [
      "0.24285714285714263\n",
      "0.24285714285714288\n"
     ]
    }
   ],
   "source": [
    "M,n,N=8,4,4\n",
    "print(stats.hypergeom.pmf([3,4],M,n,N).sum())\n",
    "print(1-stats.hypergeom.cdf(2,M,n,N))"
   ]
  },
  {
   "cell_type": "markdown",
   "metadata": {},
   "source": [
    "Step 4: conclude (low/high p-value? what does that mean? reject the null hypothesis? - generally reject if the p-value is low (usually less than 5%))\n",
    "##### We fail to reject the null hypothesis because we don't have enough evidence."
   ]
  },
  {
   "cell_type": "markdown",
   "metadata": {},
   "source": [
    "### Example 2: iris dataset\n",
    "\n",
    "The `iris` dataset is common in introductory statistics. It shows various characteristics of three different species of irises. Let's determine whether the virginica species has a larger mean sepal width than that of versicolor. "
   ]
  },
  {
   "cell_type": "code",
   "execution_count": 10,
   "metadata": {},
   "outputs": [
    {
     "data": {
      "text/html": [
       "<table border=\"1\" class=\"dataframe\">\n",
       "    <thead>\n",
       "        <tr>\n",
       "            <th>species</th> <th>sepal_length mean</th> <th>sepal_width mean</th> <th>petal_length mean</th> <th>petal_width mean</th>\n",
       "        </tr>\n",
       "    </thead>\n",
       "    <tbody>\n",
       "        <tr>\n",
       "            <td>setosa    </td> <td>5.006            </td> <td>3.418           </td> <td>1.464            </td> <td>0.244           </td>\n",
       "        </tr>\n",
       "        <tr>\n",
       "            <td>versicolor</td> <td>5.936            </td> <td>2.77            </td> <td>4.26             </td> <td>1.326           </td>\n",
       "        </tr>\n",
       "        <tr>\n",
       "            <td>virginica </td> <td>6.588            </td> <td>2.974           </td> <td>5.552            </td> <td>2.026           </td>\n",
       "        </tr>\n",
       "    </tbody>\n",
       "</table>"
      ],
      "text/plain": [
       "species    | sepal_length mean | sepal_width mean | petal_length mean | petal_width mean\n",
       "setosa     | 5.006             | 3.418            | 1.464             | 0.244\n",
       "versicolor | 5.936             | 2.77             | 4.26              | 1.326\n",
       "virginica  | 6.588             | 2.974            | 5.552             | 2.026"
      ]
     },
     "execution_count": 10,
     "metadata": {},
     "output_type": "execute_result"
    }
   ],
   "source": [
    "iris=Table().read_table(\"iris.csv\")\n",
    "iris.group(4,np.mean)"
   ]
  },
  {
   "cell_type": "markdown",
   "metadata": {},
   "source": [
    "Step 1: Null Hypothesis: the two species (virginica and versicolor) have equal mean sepal width. (The fact that the virginica species has a larger mean sepal width in the table is not consistent with average natural occurances, it is due to chance alone.) Alternate Hypothesis: virgninica species has a larger mean sepal width that the versicolor (the data shown in the table did not occur simply by chance). "
   ]
  },
  {
   "cell_type": "markdown",
   "metadata": {},
   "source": [
    "Step 2: (calculate a test statistic) in this case, use the difference in sample means\n",
    "If Hn is true, the difference in the sample means should be around 0. "
   ]
  },
  {
   "cell_type": "code",
   "execution_count": 15,
   "metadata": {},
   "outputs": [
    {
     "data": {
      "text/plain": [
       "0.20399999999999974"
      ]
     },
     "execution_count": 15,
     "metadata": {},
     "output_type": "execute_result"
    }
   ],
   "source": [
    "# This line gives the observed difference\n",
    "iris_sub=iris.select(4,1).where(0,are.not_containing('setosa'))\n",
    "obs=np.diff(iris_sub.group(0,np.mean).column(1))[0]\n",
    "obs"
   ]
  },
  {
   "cell_type": "markdown",
   "metadata": {},
   "source": [
    "Step 3: (determine distribution of ts and calculate p)"
   ]
  },
  {
   "cell_type": "code",
   "execution_count": 27,
   "metadata": {},
   "outputs": [
    {
     "data": {
      "text/html": [
       "<table border=\"1\" class=\"dataframe\">\n",
       "    <thead>\n",
       "        <tr>\n",
       "            <th>species</th> <th>sepal_width</th>\n",
       "        </tr>\n",
       "    </thead>\n",
       "    <tbody>\n",
       "        <tr>\n",
       "            <td>versicolor</td> <td>3.2        </td>\n",
       "        </tr>\n",
       "        <tr>\n",
       "            <td>versicolor</td> <td>3.2        </td>\n",
       "        </tr>\n",
       "        <tr>\n",
       "            <td>versicolor</td> <td>3.1        </td>\n",
       "        </tr>\n",
       "        <tr>\n",
       "            <td>versicolor</td> <td>2.3        </td>\n",
       "        </tr>\n",
       "        <tr>\n",
       "            <td>versicolor</td> <td>2.8        </td>\n",
       "        </tr>\n",
       "        <tr>\n",
       "            <td>versicolor</td> <td>2.8        </td>\n",
       "        </tr>\n",
       "        <tr>\n",
       "            <td>versicolor</td> <td>3.3        </td>\n",
       "        </tr>\n",
       "        <tr>\n",
       "            <td>versicolor</td> <td>2.4        </td>\n",
       "        </tr>\n",
       "        <tr>\n",
       "            <td>versicolor</td> <td>2.9        </td>\n",
       "        </tr>\n",
       "        <tr>\n",
       "            <td>versicolor</td> <td>2.7        </td>\n",
       "        </tr>\n",
       "        <tr>\n",
       "            <td>versicolor</td> <td>2          </td>\n",
       "        </tr>\n",
       "        <tr>\n",
       "            <td>versicolor</td> <td>3          </td>\n",
       "        </tr>\n",
       "        <tr>\n",
       "            <td>versicolor</td> <td>2.2        </td>\n",
       "        </tr>\n",
       "        <tr>\n",
       "            <td>versicolor</td> <td>2.9        </td>\n",
       "        </tr>\n",
       "        <tr>\n",
       "            <td>versicolor</td> <td>2.9        </td>\n",
       "        </tr>\n",
       "        <tr>\n",
       "            <td>versicolor</td> <td>3.1        </td>\n",
       "        </tr>\n",
       "        <tr>\n",
       "            <td>versicolor</td> <td>3          </td>\n",
       "        </tr>\n",
       "        <tr>\n",
       "            <td>versicolor</td> <td>2.7        </td>\n",
       "        </tr>\n",
       "        <tr>\n",
       "            <td>versicolor</td> <td>2.2        </td>\n",
       "        </tr>\n",
       "        <tr>\n",
       "            <td>versicolor</td> <td>2.5        </td>\n",
       "        </tr>\n",
       "        <tr>\n",
       "            <td>versicolor</td> <td>3.2        </td>\n",
       "        </tr>\n",
       "        <tr>\n",
       "            <td>versicolor</td> <td>2.8        </td>\n",
       "        </tr>\n",
       "        <tr>\n",
       "            <td>versicolor</td> <td>2.5        </td>\n",
       "        </tr>\n",
       "        <tr>\n",
       "            <td>versicolor</td> <td>2.8        </td>\n",
       "        </tr>\n",
       "        <tr>\n",
       "            <td>versicolor</td> <td>2.9        </td>\n",
       "        </tr>\n",
       "        <tr>\n",
       "            <td>versicolor</td> <td>3          </td>\n",
       "        </tr>\n",
       "        <tr>\n",
       "            <td>versicolor</td> <td>2.8        </td>\n",
       "        </tr>\n",
       "        <tr>\n",
       "            <td>versicolor</td> <td>3          </td>\n",
       "        </tr>\n",
       "        <tr>\n",
       "            <td>versicolor</td> <td>2.9        </td>\n",
       "        </tr>\n",
       "        <tr>\n",
       "            <td>versicolor</td> <td>2.6        </td>\n",
       "        </tr>\n",
       "        <tr>\n",
       "            <td>versicolor</td> <td>2.4        </td>\n",
       "        </tr>\n",
       "        <tr>\n",
       "            <td>versicolor</td> <td>2.4        </td>\n",
       "        </tr>\n",
       "        <tr>\n",
       "            <td>versicolor</td> <td>2.7        </td>\n",
       "        </tr>\n",
       "        <tr>\n",
       "            <td>versicolor</td> <td>2.7        </td>\n",
       "        </tr>\n",
       "        <tr>\n",
       "            <td>versicolor</td> <td>3          </td>\n",
       "        </tr>\n",
       "        <tr>\n",
       "            <td>versicolor</td> <td>3.4        </td>\n",
       "        </tr>\n",
       "        <tr>\n",
       "            <td>versicolor</td> <td>3.1        </td>\n",
       "        </tr>\n",
       "        <tr>\n",
       "            <td>versicolor</td> <td>2.3        </td>\n",
       "        </tr>\n",
       "        <tr>\n",
       "            <td>versicolor</td> <td>3          </td>\n",
       "        </tr>\n",
       "        <tr>\n",
       "            <td>versicolor</td> <td>2.5        </td>\n",
       "        </tr>\n",
       "        <tr>\n",
       "            <td>versicolor</td> <td>2.6        </td>\n",
       "        </tr>\n",
       "        <tr>\n",
       "            <td>versicolor</td> <td>3          </td>\n",
       "        </tr>\n",
       "        <tr>\n",
       "            <td>versicolor</td> <td>2.6        </td>\n",
       "        </tr>\n",
       "        <tr>\n",
       "            <td>versicolor</td> <td>2.3        </td>\n",
       "        </tr>\n",
       "        <tr>\n",
       "            <td>versicolor</td> <td>2.7        </td>\n",
       "        </tr>\n",
       "        <tr>\n",
       "            <td>versicolor</td> <td>3          </td>\n",
       "        </tr>\n",
       "        <tr>\n",
       "            <td>versicolor</td> <td>2.9        </td>\n",
       "        </tr>\n",
       "        <tr>\n",
       "            <td>versicolor</td> <td>2.9        </td>\n",
       "        </tr>\n",
       "        <tr>\n",
       "            <td>versicolor</td> <td>2.5        </td>\n",
       "        </tr>\n",
       "        <tr>\n",
       "            <td>versicolor</td> <td>2.8        </td>\n",
       "        </tr>\n",
       "        <tr>\n",
       "            <td>virginica </td> <td>3.3        </td>\n",
       "        </tr>\n",
       "        <tr>\n",
       "            <td>virginica </td> <td>2.7        </td>\n",
       "        </tr>\n",
       "        <tr>\n",
       "            <td>virginica </td> <td>3          </td>\n",
       "        </tr>\n",
       "        <tr>\n",
       "            <td>virginica </td> <td>2.9        </td>\n",
       "        </tr>\n",
       "        <tr>\n",
       "            <td>virginica </td> <td>3          </td>\n",
       "        </tr>\n",
       "        <tr>\n",
       "            <td>virginica </td> <td>3          </td>\n",
       "        </tr>\n",
       "        <tr>\n",
       "            <td>virginica </td> <td>2.5        </td>\n",
       "        </tr>\n",
       "        <tr>\n",
       "            <td>virginica </td> <td>2.9        </td>\n",
       "        </tr>\n",
       "        <tr>\n",
       "            <td>virginica </td> <td>2.5        </td>\n",
       "        </tr>\n",
       "        <tr>\n",
       "            <td>virginica </td> <td>3.6        </td>\n",
       "        </tr>\n",
       "        <tr>\n",
       "            <td>virginica </td> <td>3.2        </td>\n",
       "        </tr>\n",
       "        <tr>\n",
       "            <td>virginica </td> <td>2.7        </td>\n",
       "        </tr>\n",
       "        <tr>\n",
       "            <td>virginica </td> <td>3          </td>\n",
       "        </tr>\n",
       "        <tr>\n",
       "            <td>virginica </td> <td>2.5        </td>\n",
       "        </tr>\n",
       "        <tr>\n",
       "            <td>virginica </td> <td>2.8        </td>\n",
       "        </tr>\n",
       "        <tr>\n",
       "            <td>virginica </td> <td>3.2        </td>\n",
       "        </tr>\n",
       "        <tr>\n",
       "            <td>virginica </td> <td>3          </td>\n",
       "        </tr>\n",
       "        <tr>\n",
       "            <td>virginica </td> <td>3.8        </td>\n",
       "        </tr>\n",
       "        <tr>\n",
       "            <td>virginica </td> <td>2.6        </td>\n",
       "        </tr>\n",
       "        <tr>\n",
       "            <td>virginica </td> <td>2.2        </td>\n",
       "        </tr>\n",
       "        <tr>\n",
       "            <td>virginica </td> <td>3.2        </td>\n",
       "        </tr>\n",
       "        <tr>\n",
       "            <td>virginica </td> <td>2.8        </td>\n",
       "        </tr>\n",
       "        <tr>\n",
       "            <td>virginica </td> <td>2.8        </td>\n",
       "        </tr>\n",
       "        <tr>\n",
       "            <td>virginica </td> <td>2.7        </td>\n",
       "        </tr>\n",
       "        <tr>\n",
       "            <td>virginica </td> <td>3.3        </td>\n",
       "        </tr>\n",
       "        <tr>\n",
       "            <td>virginica </td> <td>3.2        </td>\n",
       "        </tr>\n",
       "        <tr>\n",
       "            <td>virginica </td> <td>2.8        </td>\n",
       "        </tr>\n",
       "        <tr>\n",
       "            <td>virginica </td> <td>3          </td>\n",
       "        </tr>\n",
       "        <tr>\n",
       "            <td>virginica </td> <td>2.8        </td>\n",
       "        </tr>\n",
       "        <tr>\n",
       "            <td>virginica </td> <td>3          </td>\n",
       "        </tr>\n",
       "        <tr>\n",
       "            <td>virginica </td> <td>2.8        </td>\n",
       "        </tr>\n",
       "        <tr>\n",
       "            <td>virginica </td> <td>3.8        </td>\n",
       "        </tr>\n",
       "        <tr>\n",
       "            <td>virginica </td> <td>2.8        </td>\n",
       "        </tr>\n",
       "        <tr>\n",
       "            <td>virginica </td> <td>2.8        </td>\n",
       "        </tr>\n",
       "        <tr>\n",
       "            <td>virginica </td> <td>2.6        </td>\n",
       "        </tr>\n",
       "        <tr>\n",
       "            <td>virginica </td> <td>3          </td>\n",
       "        </tr>\n",
       "        <tr>\n",
       "            <td>virginica </td> <td>3.4        </td>\n",
       "        </tr>\n",
       "        <tr>\n",
       "            <td>virginica </td> <td>3.1        </td>\n",
       "        </tr>\n",
       "        <tr>\n",
       "            <td>virginica </td> <td>3          </td>\n",
       "        </tr>\n",
       "        <tr>\n",
       "            <td>virginica </td> <td>3.1        </td>\n",
       "        </tr>\n",
       "        <tr>\n",
       "            <td>virginica </td> <td>3.1        </td>\n",
       "        </tr>\n",
       "        <tr>\n",
       "            <td>virginica </td> <td>3.1        </td>\n",
       "        </tr>\n",
       "        <tr>\n",
       "            <td>virginica </td> <td>2.7        </td>\n",
       "        </tr>\n",
       "        <tr>\n",
       "            <td>virginica </td> <td>3.2        </td>\n",
       "        </tr>\n",
       "        <tr>\n",
       "            <td>virginica </td> <td>3.3        </td>\n",
       "        </tr>\n",
       "        <tr>\n",
       "            <td>virginica </td> <td>3          </td>\n",
       "        </tr>\n",
       "        <tr>\n",
       "            <td>virginica </td> <td>2.5        </td>\n",
       "        </tr>\n",
       "        <tr>\n",
       "            <td>virginica </td> <td>3          </td>\n",
       "        </tr>\n",
       "        <tr>\n",
       "            <td>virginica </td> <td>3.4        </td>\n",
       "        </tr>\n",
       "        <tr>\n",
       "            <td>virginica </td> <td>3          </td>\n",
       "        </tr>\n",
       "    </tbody>\n",
       "</table>"
      ],
      "text/plain": [
       "<IPython.core.display.HTML object>"
      ]
     },
     "metadata": {},
     "output_type": "display_data"
    }
   ],
   "source": [
    "iris_sub=iris.select(4,1).where(0,are.not_containing('setosa'))\n",
    "obs=np.diff(iris_sub.group(0,np.mean).column(1))[0]\n",
    "obs\n",
    "iris_sub.show()"
   ]
  },
  {
   "cell_type": "code",
   "execution_count": 28,
   "metadata": {},
   "outputs": [],
   "source": [
    "num_obs=iris_sub.num_rows\n",
    "ts=[]\n",
    "for _ in np.arange(10000):\n",
    "    iris_sample=iris_sub.with_column(\"sampled\",iris_sub.sample(num_obs,with_replacement=False).column(1))\n",
    "    ts=np.append(ts,np.diff(iris_sample.group(0,np.mean).column(2))[0])"
   ]
  },
  {
   "cell_type": "code",
   "execution_count": 29,
   "metadata": {},
   "outputs": [
    {
     "data": {
      "image/png": "[encoded data removed]",
      "text/plain": [
       "<Figure size 432x288 with 1 Axes>"
      ]
     },
     "metadata": {},
     "output_type": "display_data"
    }
   ],
   "source": [
    "plt.hist(ts)\n",
    "plt.scatter(obs,0)\n",
    "plt.show()"
   ]
  },
  {
   "cell_type": "markdown",
   "metadata": {},
   "source": [
    "Step 4:"
   ]
  },
  {
   "cell_type": "code",
   "execution_count": 30,
   "metadata": {},
   "outputs": [
    {
     "data": {
      "text/plain": [
       "0.0011"
      ]
     },
     "execution_count": 30,
     "metadata": {},
     "output_type": "execute_result"
    }
   ],
   "source": [
    "np.mean(ts>=obs)"
   ]
  }
 ],
 "metadata": {
  "kernelspec": {
   "display_name": "Python 3",
   "language": "python",
   "name": "python3"
  },
  "language_info": {
   "codemirror_mode": {
    "name": "ipython",
    "version": 3
   },
   "file_extension": ".py",
   "mimetype": "text/x-python",
   "name": "python",
   "nbconvert_exporter": "python",
   "pygments_lexer": "ipython3",
   "version": "3.6.5"
  }
 },
 "nbformat": 4,
 "nbformat_minor": 2
}
