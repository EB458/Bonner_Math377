{
 "cells": [
  {
   "cell_type": "markdown",
   "metadata": {},
   "source": [
    "# 13 August\n",
    "## In-Class Questions\n"
   ]
  },
  {
   "cell_type": "markdown",
   "metadata": {},
   "source": [
    "1) Data science is the process drawing useful conclusions from data through computation. I think data science is something everyone uses, or will use, to some extent throughout their lifetime. As an OR major I think I'll probably use data science often in classes and on projects. I think almost everyone in the AF uses data science whether a pilot interpreting information from their intruments or an weather analyst tracking a storm and anticipating effects based on previous data."
   ]
  },
  {
   "cell_type": "markdown",
   "metadata": {},
   "source": [
    "2)  Exploration\n",
    "    Inference\n",
    "    Prediction"
   ]
  },
  {
   "cell_type": "code",
   "execution_count": 13,
   "metadata": {},
   "outputs": [
    {
     "data": {
      "text/plain": [
       "25.0"
      ]
     },
     "execution_count": 13,
     "metadata": {},
     "output_type": "execute_result"
    }
   ],
   "source": [
    "75/3"
   ]
  },
  {
   "cell_type": "code",
   "execution_count": 14,
   "metadata": {},
   "outputs": [
    {
     "data": {
      "text/plain": [
       "149"
      ]
     },
     "execution_count": 14,
     "metadata": {},
     "output_type": "execute_result"
    }
   ],
   "source": [
    "107+42"
   ]
  },
  {
   "cell_type": "code",
   "execution_count": 15,
   "metadata": {},
   "outputs": [
    {
     "data": {
      "text/plain": [
       "11.0"
      ]
     },
     "execution_count": 15,
     "metadata": {},
     "output_type": "execute_result"
    }
   ],
   "source": [
    "121*(1/11)"
   ]
  },
  {
   "cell_type": "code",
   "execution_count": 16,
   "metadata": {},
   "outputs": [
    {
     "name": "stdout",
     "output_type": "stream",
     "text": [
      "Emma Bonner 👍\n"
     ]
    }
   ],
   "source": [
    "print(\"Emma Bonner \\N{THUMBS UP SIGN}\")"
   ]
  },
  {
   "cell_type": "markdown",
   "metadata": {},
   "source": [
    "6) It is possible that ice cream sales and high crime rates are associated, but it is unlikely that ice cream sales are a cause of violent crime. Ice cream sales also increase at times when the temperature is consistently high. It's possible that there is another correlation between ice cream and crime, such as heat."
   ]
  },
  {
   "cell_type": "markdown",
   "metadata": {},
   "source": [
    "7) In an observational study the observer wouldn't manipulate any variables. An experiment would involve a researcher compiling at least two groups of individuals, introducing a treatment to one, and observing the differences in behavior or effect between the treatment and control groups."
   ]
  }
 ],
 "metadata": {
  "kernelspec": {
   "display_name": "Python 3",
   "language": "python",
   "name": "python3"
  },
  "language_info": {
   "codemirror_mode": {
    "name": "ipython",
    "version": 3
   },
   "file_extension": ".py",
   "mimetype": "text/x-python",
   "name": "python",
   "nbconvert_exporter": "python",
   "pygments_lexer": "ipython3",
   "version": "3.6.5"
  }
 },
 "nbformat": 4,
 "nbformat_minor": 2
}
