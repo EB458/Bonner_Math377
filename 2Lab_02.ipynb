{
 "cells": [
  {
   "cell_type": "markdown",
   "metadata": {},
   "source": [
    "# Lab 2: Sampling\n",
    "\n",
    "Welcome to Lab 2! In this lab, we will learn about sampling strategies. More information about sampling in the textbook can be found [here!](https://www.inferentialthinking.com/chapters/10/sampling-and-empirical-distributions.html)\n",
    "\n",
    "The data used in this lab will contain salary data and statistics for basketball players from the 2014-2015 NBA season. This data was collected from [basketball-reference](http://www.basketball-reference.com) and [spotrac](http://www.spotrac.com)."
   ]
  },
  {
   "cell_type": "code",
   "execution_count": 31,
   "metadata": {},
   "outputs": [],
   "source": [
    "# Run this cell, but please don't change it.\n",
    "\n",
    "# These lines import the Numpy and Datascience modules.\n",
    "import numpy as np\n",
    "from datascience import *\n",
    "\n",
    "# These lines do some fancy plotting magic\n",
    "import matplotlib\n",
    "%matplotlib inline\n",
    "import matplotlib.pyplot as plots\n",
    "plots.style.use('fivethirtyeight')\n",
    "\n",
    "# Don't change this cell; just run it. \n",
    "#from okgrade import grade"
   ]
  },
  {
   "cell_type": "markdown",
   "metadata": {},
   "source": [
    "## 1. Dungeons and Dragons and Sampling\n",
    "In the game Dungeons & Dragons, each player plays the role of a fantasy character.\n",
    "\n",
    "A player performs actions by rolling a 20-sided die, adding a \"modifier\" number to the roll, and comparing the total to a threshold for success.  The modifier depends on her character's competence in performing the action.\n",
    "\n",
    "For example, suppose Alice's character, a barbarian warrior named Roga, is trying to knock down a heavy door.  She rolls a 20-sided die, adds a modifier of 11 to the result (because her character is good at knocking down doors), and succeeds if the total is greater than 15.\n",
    "\n",
    "** Question 1.1 ** <br/>Write code that simulates that procedure.  Compute three values: the result of Alice's roll (`roll_result`), the result of her roll plus Roga's modifier (`modified_result`), and a boolean value indicating whether the action succeeded (`action_succeeded`).  **Do not fill in any of the results manually**; the entire simulation should happen in code.\n",
    "\n",
    "*Hint:* A roll of a 20-sided die is a number chosen uniformly from the array `make_array(1, 2, 3, 4, ..., 20)`.  So a roll of a 20-sided die *plus 11* is a number chosen uniformly from that array, plus 11."
   ]
  },
  {
   "cell_type": "code",
   "execution_count": 32,
   "metadata": {
    "for_assignment_type": "student"
   },
   "outputs": [
    {
     "name": "stdout",
     "output_type": "stream",
     "text": [
      "On a modified roll of 22, Alice's action succeeded.\n"
     ]
    }
   ],
   "source": [
    "possible_rolls = np.arange(1,21)\n",
    "roll_result = np.random.choice(possible_rolls)\n",
    "modified_result = roll_result+11\n",
    "action_succeeded = modified_result>15\n",
    "\n",
    "# The next line just prints out your results in a nice way\n",
    "# once you're done.  You can delete it if you want.\n",
    "print(\"On a modified roll of {:d}, Alice's action {}.\".format(modified_result, \"succeeded\" if action_succeeded else \"failed\"))"
   ]
  },
  {
   "cell_type": "code",
   "execution_count": 33,
   "metadata": {},
   "outputs": [],
   "source": [
    "#grade('tests/q1_1.py')"
   ]
  },
  {
   "cell_type": "markdown",
   "metadata": {},
   "source": [
    "** Question 1.2 ** <br/>Run your cell 7 times to manually estimate the chance that Alice succeeds at this action.  (Don't use math or an extended simulation.). Your answer should be a fraction. "
   ]
  },
  {
   "cell_type": "code",
   "execution_count": 34,
   "metadata": {},
   "outputs": [],
   "source": [
    "rough_success_chance = 6/7"
   ]
  },
  {
   "cell_type": "code",
   "execution_count": 35,
   "metadata": {},
   "outputs": [],
   "source": [
    "#grade('tests/q1_2.py')"
   ]
  },
  {
   "cell_type": "markdown",
   "metadata": {},
   "source": [
    "Suppose we don't know that Roga has a modifier of 11 for this action.  Instead, we observe the modified roll (that is, the die roll plus the modifier of 11) from each of 7 of her attempts to knock down doors.  We would like to estimate her modifier from these 7 numbers.\n",
    "\n",
    "** Question 1.3 ** <br/>Write a Python function called `simulate_observations`.  It should take no arguments, and it should return an array of 7 numbers.  Each of the numbers should be the modified roll from one simulation.  **Then**, call your function once to compute an array of 7 simulated modified rolls.  Name that array `observations`."
   ]
  },
  {
   "cell_type": "code",
   "execution_count": 36,
   "metadata": {
    "for_assignment_type": "student"
   },
   "outputs": [
    {
     "data": {
      "text/plain": [
       "array([24., 19., 16., 12., 27., 20., 19.])"
      ]
     },
     "execution_count": 36,
     "metadata": {},
     "output_type": "execute_result"
    }
   ],
   "source": [
    "modifier = 11\n",
    "num_observations = 7\n",
    "\n",
    "def simulate_observations():\n",
    "    \"\"\"Produces an array of 7 simulated modified die rolls\"\"\"\n",
    "    observations = make_array()\n",
    "    for i in np.arange(num_observations):\n",
    "        possible_rolls = np.arange(1,21)\n",
    "        roll_result = np.random.choice(possible_rolls)\n",
    "        modified_result = roll_result + modifier\n",
    "        observations = np.append(observations, modified_result)\n",
    "    return observations\n",
    "\n",
    "simulate_observations()\n"
   ]
  },
  {
   "cell_type": "code",
   "execution_count": 37,
   "metadata": {},
   "outputs": [],
   "source": [
    "#grade('tests/q1_3.py')"
   ]
  },
  {
   "cell_type": "markdown",
   "metadata": {},
   "source": [
    "** Question 1.4 ** <br/>Draw a histogram to display the *probability distribution* of the modified rolls we might see.\n",
    "\n",
    "Question 1.4 does not have an autograder test, so it is not graded and not in the overall lab grade."
   ]
  },
  {
   "cell_type": "code",
   "execution_count": 38,
   "metadata": {},
   "outputs": [
    {
     "name": "stderr",
     "output_type": "stream",
     "text": [
      "/usr/local/lib/python3.6/dist-packages/matplotlib/axes/_axes.py:6462: UserWarning: The 'normed' kwarg is deprecated, and has been replaced by the 'density' kwarg.\n",
      "  warnings.warn(\"The 'normed' kwarg is deprecated, and has been \"\n"
     ]
    },
    {
     "data": {
      "image/png": "[encoded data removed]",
      "text/plain": [
       "<Figure size 432x288 with 1 Axes>"
      ]
     },
     "metadata": {},
     "output_type": "display_data"
    }
   ],
   "source": [
    "# We suggest using these bins.\n",
    "range_possible = np.arange(1+modifier, 20+modifier+1)\n",
    "rolls_table=Table().with_column(\"roll_score\", range_possible)\n",
    "roll_bins = np.arange(1, modifier+2+20, 1)\n",
    "rolls_table.hist(\"roll_score\", bins=roll_bins, unit=\"roll_score\")\n",
    "\n",
    "#np.arange(1+modifier, 20+modifier+1)"
   ]
  },
  {
   "cell_type": "markdown",
   "metadata": {},
   "source": [
    "Your histogram should have values 12 to 31 each with a probability of 5%.\n",
    "\n",
    "Now let's imagine we don't know the modifier and try to estimate it from `observations`.\n",
    "\n",
    "One straightforward (but clearly suboptimal) way to do that is to find the *smallest* total roll, since the smallest roll on a 20-sided die is 1.\n",
    "\n",
    "** Question 1.5 ** <br/>Using that method, estimate `modifier` from `observations`.  Name your estimate `min_estimate`."
   ]
  },
  {
   "cell_type": "code",
   "execution_count": 39,
   "metadata": {},
   "outputs": [
    {
     "data": {
      "text/plain": [
       "12.0"
      ]
     },
     "execution_count": 39,
     "metadata": {},
     "output_type": "execute_result"
    }
   ],
   "source": [
    "observations = simulate_observations()\n",
    "min_estimate = min(observations)-1\n",
    "min_estimate"
   ]
  },
  {
   "cell_type": "code",
   "execution_count": 40,
   "metadata": {},
   "outputs": [],
   "source": [
    "#grade('tests/q1_5.py')"
   ]
  },
  {
   "cell_type": "markdown",
   "metadata": {},
   "source": [
    "Another way to estimate the modifier involves the mean of `observations`.\n",
    "\n",
    "** Question 1.6 ** <br/>Figure out a good estimate based on that quantity.  \n",
    "\n",
    "**Then**, write a function named `mean_based_estimator` that computes your estimate.  It should take an array of modified rolls (like the array `observations`) as its argument and return an estimate of `modifier` based on those numbers."
   ]
  },
  {
   "cell_type": "code",
   "execution_count": 41,
   "metadata": {},
   "outputs": [
    {
     "data": {
      "text/plain": [
       "12.0"
      ]
     },
     "execution_count": 41,
     "metadata": {},
     "output_type": "execute_result"
    }
   ],
   "source": [
    "def mean_based_estimator(nums):\n",
    "    \"\"\"Estimate the roll modifier based on observed modified rolls in the array nums.\"\"\"\n",
    "    est_modifier = min(nums)-1\n",
    "    return est_modifier\n",
    "\n",
    "# Here is an example call to your function.  It computes an estimate\n",
    "# of the modifier from our 7 observations.\n",
    "mean_based_estimate = mean_based_estimator(observations)\n",
    "mean_based_estimate"
   ]
  },
  {
   "cell_type": "code",
   "execution_count": 42,
   "metadata": {},
   "outputs": [],
   "source": [
    "#grade('tests/q1_6.py')"
   ]
  },
  {
   "cell_type": "markdown",
   "metadata": {},
   "source": [
    "## 2. Sampling\n",
    "\n",
    "Run the cell below to load the player and salary data."
   ]
  },
  {
   "cell_type": "code",
   "execution_count": 43,
   "metadata": {},
   "outputs": [
    {
     "data": {
      "text/html": [
       "<table border=\"1\" class=\"dataframe\">\n",
       "    <thead>\n",
       "        <tr>\n",
       "            <th>Name</th> <th>Age</th> <th>Team</th> <th>Games</th> <th>Rebounds</th> <th>Assists</th> <th>Steals</th> <th>Blocks</th> <th>Turnovers</th> <th>Points</th>\n",
       "        </tr>\n",
       "    </thead>\n",
       "    <tbody>\n",
       "        <tr>\n",
       "            <td>James Harden </td> <td>25  </td> <td>HOU </td> <td>81   </td> <td>459     </td> <td>565    </td> <td>154   </td> <td>60    </td> <td>321      </td> <td>2217  </td>\n",
       "        </tr>\n",
       "    </tbody>\n",
       "        <tr>\n",
       "            <td>Chris Paul   </td> <td>29  </td> <td>LAC </td> <td>82   </td> <td>376     </td> <td>838    </td> <td>156   </td> <td>15    </td> <td>190      </td> <td>1564  </td>\n",
       "        </tr>\n",
       "    </tbody>\n",
       "        <tr>\n",
       "            <td>Stephen Curry</td> <td>26  </td> <td>GSW </td> <td>80   </td> <td>341     </td> <td>619    </td> <td>163   </td> <td>16    </td> <td>249      </td> <td>1900  </td>\n",
       "        </tr>\n",
       "    </tbody>\n",
       "</table>\n",
       "<p>... (489 rows omitted)</p>"
      ],
      "text/plain": [
       "<IPython.core.display.HTML object>"
      ]
     },
     "metadata": {},
     "output_type": "display_data"
    },
    {
     "data": {
      "text/html": [
       "<table border=\"1\" class=\"dataframe\">\n",
       "    <thead>\n",
       "        <tr>\n",
       "            <th>PlayerName</th> <th>Salary</th>\n",
       "        </tr>\n",
       "    </thead>\n",
       "    <tbody>\n",
       "        <tr>\n",
       "            <td>Kobe Bryant      </td> <td>23500000</td>\n",
       "        </tr>\n",
       "    </tbody>\n",
       "        <tr>\n",
       "            <td>Amar'e Stoudemire</td> <td>23410988</td>\n",
       "        </tr>\n",
       "    </tbody>\n",
       "        <tr>\n",
       "            <td>Joe Johnson      </td> <td>23180790</td>\n",
       "        </tr>\n",
       "    </tbody>\n",
       "</table>\n",
       "<p>... (489 rows omitted)</p>"
      ],
      "text/plain": [
       "<IPython.core.display.HTML object>"
      ]
     },
     "metadata": {},
     "output_type": "display_data"
    },
    {
     "data": {
      "text/html": [
       "<table border=\"1\" class=\"dataframe\">\n",
       "    <thead>\n",
       "        <tr>\n",
       "            <th>PlayerName</th> <th>Salary</th> <th>Age</th> <th>Team</th> <th>Games</th> <th>Rebounds</th> <th>Assists</th> <th>Steals</th> <th>Blocks</th> <th>Turnovers</th> <th>Points</th>\n",
       "        </tr>\n",
       "    </thead>\n",
       "    <tbody>\n",
       "        <tr>\n",
       "            <td>A.J. Price  </td> <td>62552  </td> <td>28  </td> <td>TOT </td> <td>26   </td> <td>32      </td> <td>46     </td> <td>7     </td> <td>0     </td> <td>14       </td> <td>133   </td>\n",
       "        </tr>\n",
       "    </tbody>\n",
       "        <tr>\n",
       "            <td>Aaron Brooks</td> <td>1145685</td> <td>30  </td> <td>CHI </td> <td>82   </td> <td>166     </td> <td>261    </td> <td>54    </td> <td>15    </td> <td>157      </td> <td>954   </td>\n",
       "        </tr>\n",
       "    </tbody>\n",
       "        <tr>\n",
       "            <td>Aaron Gordon</td> <td>3992040</td> <td>19  </td> <td>ORL </td> <td>47   </td> <td>169     </td> <td>33     </td> <td>21    </td> <td>22    </td> <td>38       </td> <td>243   </td>\n",
       "        </tr>\n",
       "    </tbody>\n",
       "</table>\n",
       "<p>... (489 rows omitted)</p>"
      ],
      "text/plain": [
       "<IPython.core.display.HTML object>"
      ]
     },
     "metadata": {},
     "output_type": "display_data"
    }
   ],
   "source": [
    "player_data = Table().read_table(\"player_data.csv\")\n",
    "salary_data = Table().read_table(\"salary_data.csv\")\n",
    "full_data = salary_data.join(\"PlayerName\", player_data, \"Name\")\n",
    "# The show method immediately displays the contents of a table. \n",
    "# This way, we can display the top of two tables using a single cell.\n",
    "player_data.show(3)\n",
    "salary_data.show(3)\n",
    "full_data.show(3)"
   ]
  },
  {
   "cell_type": "markdown",
   "metadata": {},
   "source": [
    "Rather than getting data on every player, imagine that we had gotten data on only a smaller subset of the players.  For 492 players, it's not so unreasonable to expect to see all the data, but usually we aren't so lucky.  Instead, we often make *statistical inferences* about a large underlying population using a smaller sample.\n",
    "\n",
    "A statistical inference is a statement about some statistic of the underlying population, such as \"the average salary of NBA players in 2014 was $3\".  You may have heard the word \"inference\" used in other contexts.  It's important to keep in mind that statistical inferences, unlike, say, logical inferences, can be wrong.\n",
    "\n",
    "A general strategy for inference using samples is to estimate statistics of the population by computing the same statistics on a sample.  This strategy sometimes works well and sometimes doesn't.  The degree to which it gives us useful answers depends on several factors, and we'll touch lightly on a few of those today.\n",
    "\n",
    "One very important factor in the utility of samples is how they were gathered.  We have prepared some example sample datasets to simulate inference from different kinds of samples for the NBA player dataset.  Later we'll ask you to create your own samples to see how they behave."
   ]
  },
  {
   "cell_type": "markdown",
   "metadata": {},
   "source": [
    "To save typing and increase the clarity of your code, we will package the loading and analysis code into two functions. This will be useful in the rest of the lab as we will repeatedly need to create histograms and collect summary statistics from that data."
   ]
  },
  {
   "cell_type": "markdown",
   "metadata": {},
   "source": [
    "**Question 2.1**. <br/>Complete the `histograms` function, which takes a table with columns `Age` and `Salary` and draws a histogram for each one. Use the min and max functions to pick the bin boundaries so that all data appears for any table passed to your function. Use the same bin widths as before (1 year for `Age` and $1,000,000 for `Salary`)."
   ]
  },
  {
   "cell_type": "code",
   "execution_count": 44,
   "metadata": {},
   "outputs": [
    {
     "name": "stderr",
     "output_type": "stream",
     "text": [
      "/usr/local/lib/python3.6/dist-packages/matplotlib/axes/_axes.py:6462: UserWarning: The 'normed' kwarg is deprecated, and has been replaced by the 'density' kwarg.\n",
      "  warnings.warn(\"The 'normed' kwarg is deprecated, and has been \"\n"
     ]
    },
    {
     "name": "stdout",
     "output_type": "stream",
     "text": [
      "Two histograms should be displayed below\n"
     ]
    },
    {
     "data": {
      "image/png": "[encoded data removed]",
      "text/plain": [
       "<Figure size 432x288 with 1 Axes>"
      ]
     },
     "metadata": {},
     "output_type": "display_data"
    },
    {
     "data": {
      "image/png": "[encoded data removed]",
      "text/plain": [
       "<Figure size 432x288 with 1 Axes>"
      ]
     },
     "metadata": {},
     "output_type": "display_data"
    }
   ],
   "source": [
    "def histograms(t):\n",
    "    ages = t.column('Age')\n",
    "    salaries = t.column('Salary')\n",
    "    age_bins = np.arange(min(ages),max(ages),1)\n",
    "    salary_bins = np.arange(min(salaries),max(salaries),1000000)\n",
    "    t.hist('Age', bins=age_bins, unit='year')\n",
    "    t.hist('Salary', bins=salary_bins, unit='$')\n",
    "    return age_bins # Keep this statement so that your work can be checked\n",
    "    \n",
    "histograms(full_data)\n",
    "print('Two histograms should be displayed below')"
   ]
  },
  {
   "cell_type": "code",
   "execution_count": 45,
   "metadata": {},
   "outputs": [],
   "source": [
    "#grade('tests/q2_1.py') # Warning: Charts will be displayed while running this test"
   ]
  },
  {
   "cell_type": "markdown",
   "metadata": {},
   "source": [
    "**Question 2.2**. <br/>Create a function called `compute_statistics` that takes a Table containing ages and salaries and:\n",
    "- Draws a histogram of ages\n",
    "- Draws a histogram of salaries\n",
    "- Returns a two-element array containing the average age and average salary\n",
    "\n",
    "You can call your `histograms` function to draw the histograms!"
   ]
  },
  {
   "cell_type": "code",
   "execution_count": 46,
   "metadata": {},
   "outputs": [
    {
     "name": "stderr",
     "output_type": "stream",
     "text": [
      "/usr/local/lib/python3.6/dist-packages/matplotlib/axes/_axes.py:6462: UserWarning: The 'normed' kwarg is deprecated, and has been replaced by the 'density' kwarg.\n",
      "  warnings.warn(\"The 'normed' kwarg is deprecated, and has been \"\n"
     ]
    },
    {
     "data": {
      "image/png": "[encoded data removed]",
      "text/plain": [
       "<Figure size 432x288 with 1 Axes>"
      ]
     },
     "metadata": {},
     "output_type": "display_data"
    },
    {
     "data": {
      "image/png": "[encoded data removed]",
      "text/plain": [
       "<Figure size 432x288 with 1 Axes>"
      ]
     },
     "metadata": {},
     "output_type": "display_data"
    }
   ],
   "source": [
    "def compute_statistics(age_and_salary_data):\n",
    "    ...\n",
    "    age = age_and_salary_data.column(\"Age\")\n",
    "    salary = age_and_salary_data.column(\"Salary\")\n",
    "    age_bins = np.arange(min(age),max(age),1)\n",
    "    salary_bins = np.arange(min(salary),max(salary),1000000)\n",
    "    age_and_salary_data.hist('Age', bins=age_bins, unit='year')\n",
    "    age_and_salary_data.hist('Salary', bins=salary_bins, unit='$')\n",
    "    means = make_array(np.mean(age),np.mean(salary))\n",
    "    return means\n",
    "\n",
    "full_stats = compute_statistics(full_data)\n",
    "    "
   ]
  },
  {
   "cell_type": "markdown",
   "metadata": {},
   "source": [
    "#### Why is \"means\" returned from this function? Does that impact the functions output? Why isn't the two-element array displayed anywhere?"
   ]
  },
  {
   "cell_type": "code",
   "execution_count": 47,
   "metadata": {},
   "outputs": [],
   "source": [
    "#grade('tests/q2_2.py') # Warning: Charts will be displayed while running this test"
   ]
  },
  {
   "cell_type": "markdown",
   "metadata": {},
   "source": [
    "### Convenience sampling\n",
    "One sampling methodology, which is **generally a bad idea**, is to choose players who are somehow convenient to sample.  For example, you might choose players from one team that's near your house, since it's easier to survey them.  This is called, somewhat pejoratively, *convenience sampling*.\n",
    "\n",
    "Suppose you survey only *relatively new* players with ages less than 22.  (The more experienced players didn't bother to answer your surveys about their salaries.)\n",
    "\n",
    "**Question 2.3**  <br/>Assign `convenience_sample_data` to a subset of `full_data` that contains only the rows for players under the age of 22."
   ]
  },
  {
   "cell_type": "code",
   "execution_count": 48,
   "metadata": {},
   "outputs": [
    {
     "data": {
      "text/html": [
       "<table border=\"1\" class=\"dataframe\">\n",
       "    <thead>\n",
       "        <tr>\n",
       "            <th>PlayerName</th> <th>Salary</th> <th>Age</th> <th>Team</th> <th>Games</th> <th>Rebounds</th> <th>Assists</th> <th>Steals</th> <th>Blocks</th> <th>Turnovers</th> <th>Points</th>\n",
       "        </tr>\n",
       "    </thead>\n",
       "    <tbody>\n",
       "        <tr>\n",
       "            <td>Aaron Gordon   </td> <td>3992040</td> <td>19  </td> <td>ORL </td> <td>47   </td> <td>169     </td> <td>33     </td> <td>21    </td> <td>22    </td> <td>38       </td> <td>243   </td>\n",
       "        </tr>\n",
       "    </tbody>\n",
       "        <tr>\n",
       "            <td>Alex Len       </td> <td>3649920</td> <td>21  </td> <td>PHO </td> <td>69   </td> <td>454     </td> <td>32     </td> <td>34    </td> <td>105   </td> <td>74       </td> <td>432   </td>\n",
       "        </tr>\n",
       "    </tbody>\n",
       "        <tr>\n",
       "            <td>Andre Drummond </td> <td>2568360</td> <td>21  </td> <td>DET </td> <td>82   </td> <td>1104    </td> <td>55     </td> <td>73    </td> <td>153   </td> <td>120      </td> <td>1130  </td>\n",
       "        </tr>\n",
       "    </tbody>\n",
       "        <tr>\n",
       "            <td>Andrew Wiggins </td> <td>5510640</td> <td>19  </td> <td>MIN </td> <td>82   </td> <td>374     </td> <td>170    </td> <td>86    </td> <td>50    </td> <td>177      </td> <td>1387  </td>\n",
       "        </tr>\n",
       "    </tbody>\n",
       "        <tr>\n",
       "            <td>Anthony Bennett</td> <td>5563920</td> <td>21  </td> <td>MIN </td> <td>57   </td> <td>216     </td> <td>48     </td> <td>27    </td> <td>16    </td> <td>36       </td> <td>298   </td>\n",
       "        </tr>\n",
       "    </tbody>\n",
       "        <tr>\n",
       "            <td>Anthony Davis  </td> <td>5607240</td> <td>21  </td> <td>NOP </td> <td>68   </td> <td>696     </td> <td>149    </td> <td>100   </td> <td>200   </td> <td>95       </td> <td>1656  </td>\n",
       "        </tr>\n",
       "    </tbody>\n",
       "        <tr>\n",
       "            <td>Archie Goodwin </td> <td>1112280</td> <td>20  </td> <td>PHO </td> <td>41   </td> <td>74      </td> <td>44     </td> <td>18    </td> <td>9     </td> <td>48       </td> <td>231   </td>\n",
       "        </tr>\n",
       "    </tbody>\n",
       "        <tr>\n",
       "            <td>Ben McLemore   </td> <td>3026280</td> <td>21  </td> <td>SAC </td> <td>82   </td> <td>241     </td> <td>140    </td> <td>77    </td> <td>19    </td> <td>138      </td> <td>996   </td>\n",
       "        </tr>\n",
       "    </tbody>\n",
       "        <tr>\n",
       "            <td>Bradley Beal   </td> <td>4505280</td> <td>21  </td> <td>WAS </td> <td>63   </td> <td>241     </td> <td>194    </td> <td>76    </td> <td>18    </td> <td>123      </td> <td>962   </td>\n",
       "        </tr>\n",
       "    </tbody>\n",
       "        <tr>\n",
       "            <td>Bruno Caboclo  </td> <td>1458360</td> <td>19  </td> <td>TOR </td> <td>8    </td> <td>2       </td> <td>0      </td> <td>0     </td> <td>1     </td> <td>4        </td> <td>10    </td>\n",
       "        </tr>\n",
       "    </tbody>\n",
       "</table>\n",
       "<p>... (34 rows omitted)</p>"
      ],
      "text/plain": [
       "PlayerName      | Salary  | Age  | Team | Games | Rebounds | Assists | Steals | Blocks | Turnovers | Points\n",
       "Aaron Gordon    | 3992040 | 19   | ORL  | 47    | 169      | 33      | 21     | 22     | 38        | 243\n",
       "Alex Len        | 3649920 | 21   | PHO  | 69    | 454      | 32      | 34     | 105    | 74        | 432\n",
       "Andre Drummond  | 2568360 | 21   | DET  | 82    | 1104     | 55      | 73     | 153    | 120       | 1130\n",
       "Andrew Wiggins  | 5510640 | 19   | MIN  | 82    | 374      | 170     | 86     | 50     | 177       | 1387\n",
       "Anthony Bennett | 5563920 | 21   | MIN  | 57    | 216      | 48      | 27     | 16     | 36        | 298\n",
       "Anthony Davis   | 5607240 | 21   | NOP  | 68    | 696      | 149     | 100    | 200    | 95        | 1656\n",
       "Archie Goodwin  | 1112280 | 20   | PHO  | 41    | 74       | 44      | 18     | 9      | 48        | 231\n",
       "Ben McLemore    | 3026280 | 21   | SAC  | 82    | 241      | 140     | 77     | 19     | 138       | 996\n",
       "Bradley Beal    | 4505280 | 21   | WAS  | 63    | 241      | 194     | 76     | 18     | 123       | 962\n",
       "Bruno Caboclo   | 1458360 | 19   | TOR  | 8     | 2        | 0       | 0      | 1      | 4         | 10\n",
       "... (34 rows omitted)"
      ]
     },
     "execution_count": 48,
     "metadata": {},
     "output_type": "execute_result"
    }
   ],
   "source": [
    "convenience_sample = full_data.where(\"Age\",are.below(22))\n",
    "convenience_sample"
   ]
  },
  {
   "cell_type": "code",
   "execution_count": 49,
   "metadata": {},
   "outputs": [],
   "source": [
    "#grade('tests/q2_3.py')"
   ]
  },
  {
   "cell_type": "markdown",
   "metadata": {},
   "source": [
    "**Question 2.4** <br/>Assign `convenience_stats` to a list of the average age and average salary of your convenience sample, using the `compute_statistics` function.  Since they're computed on a sample, these are called *sample averages*. "
   ]
  },
  {
   "cell_type": "code",
   "execution_count": 50,
   "metadata": {},
   "outputs": [
    {
     "name": "stderr",
     "output_type": "stream",
     "text": [
      "/usr/local/lib/python3.6/dist-packages/matplotlib/axes/_axes.py:6462: UserWarning: The 'normed' kwarg is deprecated, and has been replaced by the 'density' kwarg.\n",
      "  warnings.warn(\"The 'normed' kwarg is deprecated, and has been \"\n"
     ]
    },
    {
     "data": {
      "text/plain": [
       "array([2.03636364e+01, 2.38353382e+06])"
      ]
     },
     "execution_count": 50,
     "metadata": {},
     "output_type": "execute_result"
    },
    {
     "data": {
      "image/png": "[encoded data removed]",
      "text/plain": [
       "<Figure size 432x288 with 1 Axes>"
      ]
     },
     "metadata": {},
     "output_type": "display_data"
    },
    {
     "data": {
      "image/png": "[encoded data removed]",
      "text/plain": [
       "<Figure size 432x288 with 1 Axes>"
      ]
     },
     "metadata": {},
     "output_type": "display_data"
    }
   ],
   "source": [
    "convenience_stats = compute_statistics(convenience_sample)\n",
    "convenience_stats"
   ]
  },
  {
   "cell_type": "code",
   "execution_count": 51,
   "metadata": {},
   "outputs": [],
   "source": [
    "#grade('tests/q2_4.py')"
   ]
  },
  {
   "cell_type": "markdown",
   "metadata": {},
   "source": [
    "Next, we'll compare the convenience sample salaries with the full data salaries in a single histogram. To do that, we'll need to use the `bin_column` option of the `hist` method, which indicates that all columns are counts of the bins in a particular column. The following cell should not require any changes; just run it."
   ]
  },
  {
   "cell_type": "code",
   "execution_count": 52,
   "metadata": {},
   "outputs": [
    {
     "name": "stderr",
     "output_type": "stream",
     "text": [
      "/usr/local/lib/python3.6/dist-packages/matplotlib/axes/_axes.py:6462: UserWarning: The 'normed' kwarg is deprecated, and has been replaced by the 'density' kwarg.\n",
      "  warnings.warn(\"The 'normed' kwarg is deprecated, and has been \"\n"
     ]
    },
    {
     "data": {
      "image/png": "[encoded data removed]",
      "text/plain": [
       "<Figure size 432x288 with 1 Axes>"
      ]
     },
     "metadata": {},
     "output_type": "display_data"
    }
   ],
   "source": [
    "def compare_salaries(first, second, first_title, second_title):\n",
    "    \"\"\"Compare the salaries in two tables.\"\"\"\n",
    "    max_salary = max(np.append(first.column('Salary'), second.column('Salary')))\n",
    "    bins = np.arange(0, max_salary+1e6+1, 1e6)\n",
    "    first_binned = first.bin('Salary', bins=bins).relabeled(1, first_title)\n",
    "    second_binned = second.bin('Salary', bins=bins).relabeled(1, second_title)\n",
    "    first_binned.join('bin', second_binned).hist(bin_column='bin')\n",
    "\n",
    "compare_salaries(full_data, convenience_sample, 'All Players', 'Convenience Sample')"
   ]
  },
  {
   "cell_type": "markdown",
   "metadata": {},
   "source": [
    "### Simple random sampling\n",
    "A more principled approach is to sample uniformly at random from the players.  If we ensure that each player is selected at most once, this is a *simple random sample without replacement*, sometimes abbreviated to \"simple random sample\" or \"SRSWOR\".  Imagine writing down each player's name on a card, putting the cards in an urn, and shuffling the urn.  Then, pull out cards one by one and set them aside, stopping when the specified *sample size* is reached.\n",
    "\n",
    "We've produced two samples of the `salary_data` table in this way: `small_srswor_salary.csv` and `large_srswor_salary.csv` contain, respectively, a sample of size 44 (the same as the convenience sample) and a larger sample of size 100.  \n",
    "\n",
    "The `load_data` function below loads a salary table and joins it with `player_data`."
   ]
  },
  {
   "cell_type": "code",
   "execution_count": 53,
   "metadata": {},
   "outputs": [],
   "source": [
    "def load_data(salary_file):\n",
    "    return player_data.join('Name', Table.read_table(salary_file), 'PlayerName')"
   ]
  },
  {
   "cell_type": "markdown",
   "metadata": {},
   "source": [
    "**Question 2.5** <br/>Run the same analyses on the small and large samples that you previously ran on the full dataset and on the convenience sample.  Compare the accuracy of the estimates of the population statistics that we get from the convenience sample, the small simple random sample, and the large simple random sample.  (Just notice this for yourself -- the autograder will check your sample statistics but will not validate whatever you do to compare.)"
   ]
  },
  {
   "cell_type": "code",
   "execution_count": 54,
   "metadata": {},
   "outputs": [
    {
     "data": {
      "text/html": [
       "<table border=\"1\" class=\"dataframe\">\n",
       "    <thead>\n",
       "        <tr>\n",
       "            <th>PlayerName</th> <th>Salary</th>\n",
       "        </tr>\n",
       "    </thead>\n",
       "    <tbody>\n",
       "        <tr>\n",
       "            <td>Gary Neal      </td> <td>3250000 </td>\n",
       "        </tr>\n",
       "    </tbody>\n",
       "        <tr>\n",
       "            <td>Reggie Evans   </td> <td>1768653 </td>\n",
       "        </tr>\n",
       "    </tbody>\n",
       "        <tr>\n",
       "            <td>DeJuan Blair   </td> <td>2000000 </td>\n",
       "        </tr>\n",
       "    </tbody>\n",
       "        <tr>\n",
       "            <td>Nicolas Batum  </td> <td>11765500</td>\n",
       "        </tr>\n",
       "    </tbody>\n",
       "        <tr>\n",
       "            <td>Thomas Robinson</td> <td>3678360 </td>\n",
       "        </tr>\n",
       "    </tbody>\n",
       "        <tr>\n",
       "            <td>Jeff Green     </td> <td>9445000 </td>\n",
       "        </tr>\n",
       "    </tbody>\n",
       "        <tr>\n",
       "            <td>Lucas Nogueira </td> <td>1762680 </td>\n",
       "        </tr>\n",
       "    </tbody>\n",
       "        <tr>\n",
       "            <td>Aaron Brooks   </td> <td>1145685 </td>\n",
       "        </tr>\n",
       "    </tbody>\n",
       "        <tr>\n",
       "            <td>Chris Bosh     </td> <td>20644400</td>\n",
       "        </tr>\n",
       "    </tbody>\n",
       "        <tr>\n",
       "            <td>Joey Dorsey    </td> <td>948163  </td>\n",
       "        </tr>\n",
       "    </tbody>\n",
       "</table>\n",
       "<p>... (34 rows omitted)</p>"
      ],
      "text/plain": [
       "PlayerName      | Salary\n",
       "Gary Neal       | 3250000\n",
       "Reggie Evans    | 1768653\n",
       "DeJuan Blair    | 2000000\n",
       "Nicolas Batum   | 11765500\n",
       "Thomas Robinson | 3678360\n",
       "Jeff Green      | 9445000\n",
       "Lucas Nogueira  | 1762680\n",
       "Aaron Brooks    | 1145685\n",
       "Chris Bosh      | 20644400\n",
       "Joey Dorsey     | 948163\n",
       "... (34 rows omitted)"
      ]
     },
     "execution_count": 54,
     "metadata": {},
     "output_type": "execute_result"
    }
   ],
   "source": [
    "Table().read_table(\"small_srswor_salary.csv\")"
   ]
  },
  {
   "cell_type": "code",
   "execution_count": 55,
   "metadata": {},
   "outputs": [
    {
     "name": "stdout",
     "output_type": "stream",
     "text": [
      "Full data stats:                  [2.65365854e+01 4.26977577e+06]\n",
      "Small simple random sample stats: [ 3250000  1768653  2000000 11765500  3678360  9445000  1762680  1145685\n",
      " 20644400   948163  5016960  7750000    92514  5138430  2745840  5000000\n",
      "   507336  6000000  7900000  1962103   507336   816482   725000 10854850\n",
      "   183049  5958750   196217  8000000  5850313 14898938   915243  3457149\n",
      "  3278000  8000000    48028   915243  4250000  5381750  1129200  1662961\n",
      "  5305000   816481  6757913    62552]\n",
      "Large simple random sample stats: [ 2106720  8000000    35000  3146068 11265416  6900000  2000000 20644400\n",
      "  1370000  1472400  1828750  2772480   915243  4030560  1145685 15719062\n",
      "  4205000  3150000   235762  5850313   507336 18862876   915243 23410988\n",
      "  3678360 14746000  3553917  1169880  2442455  4831461   948163 10105855\n",
      "  6516000  1000000  2000000  1690680  4994420 14846887    53838 21436271\n",
      "  1145686  2000000  2106720   507336  4500000 11440124   613478  1316809\n",
      "   507336   183049  1000000  1953120 11000000   134295  2943221  5450000\n",
      " 10854850  1762680   167122   948163  1316809  4930560  1762680  8575000\n",
      "  2055840  1063384  2380594  3878896 23180790   915243  8000000   816482\n",
      "   948163  1768653   915243  3026280  4500000  7128000 12000000    48028\n",
      "   880000   199950  1238640  7238606  1855320   196217  1533840  3911981\n",
      " 12000000 12100000   816481  9904495  2300040 16256000   816482  3457149\n",
      " 20644400   769881   816482   948163]\n"
     ]
    }
   ],
   "source": [
    "# Original:\n",
    "small_srswor_data = Table().read_table(\"small_srswor_salary.csv\")\n",
    "small_stats = small_srswor_data.column(\"Salary\")\n",
    "large_srswor_data = Table().read_table(\"large_srswor_salary.csv\")\n",
    "large_stats = large_srswor_data.column(\"Salary\")\n",
    "print('Full data stats:                 ', full_stats)\n",
    "print('Small simple random sample stats:', small_stats)\n",
    "print('Large simple random sample stats:', large_stats)"
   ]
  },
  {
   "cell_type": "code",
   "execution_count": 56,
   "metadata": {
    "scrolled": true
   },
   "outputs": [],
   "source": [
    "#grade('tests/q2_5.py')"
   ]
  },
  {
   "cell_type": "markdown",
   "metadata": {},
   "source": [
    "### Producing simple random samples\n",
    "Often it's useful to take random samples even when we have a larger dataset available.  The randomized response technique was one example we saw in lecture.  Another is to help us understand how inaccurate other samples are.\n",
    "\n",
    "Tables provide the method `sample()` for producing random samples.  Note that its default is to sample with replacement. To see how to call `sample()`, search the documentation on the [resources page](http://data8.org/su17/resources.html) of the course website, or enter `full_data.sample?` into a code cell and press Shift + Enter."
   ]
  },
  {
   "cell_type": "markdown",
   "metadata": {},
   "source": [
    "**Question 2.6** <br/>\n",
    "Produce a simple random sample of size 44 from `full_data`.  (You don't need to bother with a join this time -- just use `full_data.sample(...)` directly.  That will have the same result as sampling from `salary_data` and joining with `player_data`.)  Run your analysis on it again and think about these following questions.\n",
    "- Are your results roughly similar to those in the small sample we provided you?  Run your code several times to get new samples.  \n",
    "- How much does the average age change across samples? \n",
    "- What about average salary?\n",
    "\n",
    "Question 2.6 does not have an autograder test, so it is not graded and not in the overall lab grade."
   ]
  },
  {
   "cell_type": "code",
   "execution_count": 57,
   "metadata": {
    "scrolled": true
   },
   "outputs": [
    {
     "data": {
      "text/html": [
       "<table border=\"1\" class=\"dataframe\">\n",
       "    <thead>\n",
       "        <tr>\n",
       "            <th>Age</th> <th>Salary</th>\n",
       "        </tr>\n",
       "    </thead>\n",
       "    <tbody>\n",
       "        <tr>\n",
       "            <td>33  </td> <td>262057 </td>\n",
       "        </tr>\n",
       "    </tbody>\n",
       "        <tr>\n",
       "            <td>31  </td> <td>1227985</td>\n",
       "        </tr>\n",
       "    </tbody>\n",
       "        <tr>\n",
       "            <td>21  </td> <td>2568360</td>\n",
       "        </tr>\n",
       "    </tbody>\n",
       "        <tr>\n",
       "            <td>27  </td> <td>1828750</td>\n",
       "        </tr>\n",
       "    </tbody>\n",
       "        <tr>\n",
       "            <td>22  </td> <td>167122 </td>\n",
       "        </tr>\n",
       "    </tbody>\n",
       "        <tr>\n",
       "            <td>28  </td> <td>7245640</td>\n",
       "        </tr>\n",
       "    </tbody>\n",
       "        <tr>\n",
       "            <td>33  </td> <td>2750000</td>\n",
       "        </tr>\n",
       "    </tbody>\n",
       "        <tr>\n",
       "            <td>22  </td> <td>4030560</td>\n",
       "        </tr>\n",
       "    </tbody>\n",
       "        <tr>\n",
       "            <td>24  </td> <td>948163 </td>\n",
       "        </tr>\n",
       "    </tbody>\n",
       "        <tr>\n",
       "            <td>27  </td> <td>6757913</td>\n",
       "        </tr>\n",
       "    </tbody>\n",
       "</table>\n",
       "<p>... (5 rows omitted)</p>"
      ],
      "text/plain": [
       "Age  | Salary\n",
       "33   | 262057\n",
       "31   | 1227985\n",
       "21   | 2568360\n",
       "27   | 1828750\n",
       "22   | 167122\n",
       "28   | 7245640\n",
       "33   | 2750000\n",
       "22   | 4030560\n",
       "24   | 948163\n",
       "27   | 6757913\n",
       "... (5 rows omitted)"
      ]
     },
     "execution_count": 57,
     "metadata": {},
     "output_type": "execute_result"
    }
   ],
   "source": [
    "my_small_srswor_data = full_data.sample(15)\n",
    "my_small_stats = Table().with_columns(\"Age\",my_small_srswor_data.column(\"Age\"),\"Salary\",my_small_srswor_data.column(\"Salary\"))\n",
    "my_small_stats"
   ]
  },
  {
   "cell_type": "markdown",
   "metadata": {},
   "source": [
    "Notice that the results are similar, but not the same, to the sample we were given. The average age tends to stay around the same value as there is a limited range of ages for NBA players, but the salary changes by a sizeable factor due to larger variability in salary."
   ]
  },
  {
   "cell_type": "markdown",
   "metadata": {},
   "source": [
    "**Question 2.7** <br/>As in the previous question, analyze several simple random samples of size 100 from `full_data`.  \n",
    "- Do the histogram statistics seem to change more or less across samples of 100 than across samples of size 44?  \n",
    "- Are the sample averages and histograms closer to their true values for age or for salary?  What did you expect to see?\n",
    "\n",
    "Question 2.7 does not have an autograder test, so it is not graded and not in the overall lab grade."
   ]
  },
  {
   "cell_type": "code",
   "execution_count": 58,
   "metadata": {
    "scrolled": true
   },
   "outputs": [
    {
     "data": {
      "text/html": [
       "<table border=\"1\" class=\"dataframe\">\n",
       "    <thead>\n",
       "        <tr>\n",
       "            <th>Age</th> <th>Salary</th>\n",
       "        </tr>\n",
       "    </thead>\n",
       "    <tbody>\n",
       "        <tr>\n",
       "            <td>27  </td> <td>241731  </td>\n",
       "        </tr>\n",
       "    </tbody>\n",
       "        <tr>\n",
       "            <td>36  </td> <td>23500000</td>\n",
       "        </tr>\n",
       "    </tbody>\n",
       "        <tr>\n",
       "            <td>28  </td> <td>2077000 </td>\n",
       "        </tr>\n",
       "    </tbody>\n",
       "        <tr>\n",
       "            <td>26  </td> <td>15719063</td>\n",
       "        </tr>\n",
       "    </tbody>\n",
       "        <tr>\n",
       "            <td>24  </td> <td>15925680</td>\n",
       "        </tr>\n",
       "    </tbody>\n",
       "        <tr>\n",
       "            <td>26  </td> <td>635827  </td>\n",
       "        </tr>\n",
       "    </tbody>\n",
       "        <tr>\n",
       "            <td>28  </td> <td>4000000 </td>\n",
       "        </tr>\n",
       "    </tbody>\n",
       "        <tr>\n",
       "            <td>26  </td> <td>1169880 </td>\n",
       "        </tr>\n",
       "    </tbody>\n",
       "        <tr>\n",
       "            <td>23  </td> <td>884879  </td>\n",
       "        </tr>\n",
       "    </tbody>\n",
       "        <tr>\n",
       "            <td>35  </td> <td>2000000 </td>\n",
       "        </tr>\n",
       "    </tbody>\n",
       "</table>\n",
       "<p>... (5 rows omitted)</p>"
      ],
      "text/plain": [
       "Age  | Salary\n",
       "27   | 241731\n",
       "36   | 23500000\n",
       "28   | 2077000\n",
       "26   | 15719063\n",
       "24   | 15925680\n",
       "26   | 635827\n",
       "28   | 4000000\n",
       "26   | 1169880\n",
       "23   | 884879\n",
       "35   | 2000000\n",
       "... (5 rows omitted)"
      ]
     },
     "execution_count": 58,
     "metadata": {},
     "output_type": "execute_result"
    }
   ],
   "source": [
    "my_large_srswor_data = full_data.sample(15)\n",
    "my_large_stats = Table().with_columns(\"Age\",my_large_srswor_data.column(\"Age\"),\"Salary\",my_large_srswor_data.column(\"Salary\"))\n",
    "my_large_stats"
   ]
  },
  {
   "cell_type": "markdown",
   "metadata": {},
   "source": [
    "The average and histogram statistics seem to change less across samples of this size. They are closer to their true values, which is what we'd expect to see because we are sampling a larger subset of the population. "
   ]
  },
  {
   "cell_type": "markdown",
   "metadata": {},
   "source": [
    "## Submission"
   ]
  },
  {
   "cell_type": "markdown",
   "metadata": {},
   "source": [
    "You're finished with lab 2! In order to successfully submit your assignment, follow these steps...\n",
    "- **IMPORTANT** Before you do anything, **Save and Checkpoint** from the `File` menu. Please do this first before running the cell below,\n",
    "- **run all the tests and verify that they all pass** (the next cell has a shortcut for that), \n",
    "- **Review the notebook one last time, we will be grading the final state of your notebook** If you make any changes, please **Save and Checkpoint** again."
   ]
  },
  {
   "cell_type": "code",
   "execution_count": 59,
   "metadata": {},
   "outputs": [],
   "source": [
    "# For your convenience, you can run this cell to run all the tests at once!\n",
    "#import glob\n",
    "#from okgrade.notebook import grade_notebook\n",
    "#if not globals().get('__OKGRADE__', False):\n",
    "#    display(grade_notebook('lab02.ipynb', sorted(glob.glob('tests/q*.py'))))"
   ]
  }
 ],
 "metadata": {
  "anaconda-cloud": {},
  "kernelspec": {
   "display_name": "Python 3",
   "language": "python",
   "name": "python3"
  },
  "language_info": {
   "codemirror_mode": {
    "name": "ipython",
    "version": 3
   },
   "file_extension": ".py",
   "mimetype": "text/x-python",
   "name": "python",
   "nbconvert_exporter": "python",
   "pygments_lexer": "ipython3",
   "version": "3.6.5"
  }
 },
 "nbformat": 4,
 "nbformat_minor": 1
}
