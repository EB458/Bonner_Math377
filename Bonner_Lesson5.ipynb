{
 "cells": [
  {
   "cell_type": "markdown",
   "metadata": {},
   "source": [
    "# August 21"
   ]
  },
  {
   "cell_type": "code",
   "execution_count": 5,
   "metadata": {},
   "outputs": [],
   "source": [
    "import numpy as np\n",
    "from datascience import *\n",
    "%matplotlib inline\n",
    "import matplotlib.pyplot as plots\n",
    "plots.style.use('fivethirtyeight')\n",
    "import warnings\n",
    "warnings.simplefilter(action=\"ignore\", category=FutureWarning)"
   ]
  },
  {
   "cell_type": "code",
   "execution_count": 8,
   "metadata": {},
   "outputs": [
    {
     "data": {
      "text/plain": [
       "array(['Emma', 'Bonner', 'California', 'Green'], dtype='<U10')"
      ]
     },
     "execution_count": 8,
     "metadata": {},
     "output_type": "execute_result"
    }
   ],
   "source": [
    "#1\n",
    "#Create array containing 4 string elements.\n",
    "array1 = make_array(\"Emma\",\"Bonner\",\"California\",\"Green\")\n",
    "print(array1)"
   ]
  },
  {
   "cell_type": "code",
   "execution_count": 38,
   "metadata": {},
   "outputs": [
    {
     "name": "stdout",
     "output_type": "stream",
     "text": [
      "['EMMA' 'BONNER' 'CALIFORNIA' 'GREEN']\n"
     ]
    }
   ],
   "source": [
    "#a\n",
    "print(np.char.upper(array1))"
   ]
  },
  {
   "cell_type": "code",
   "execution_count": 37,
   "metadata": {},
   "outputs": [
    {
     "name": "stdout",
     "output_type": "stream",
     "text": [
      "[1 0 2 0]\n"
     ]
    }
   ],
   "source": [
    "#b\n",
    "print(np.char.count(array1,'a'))"
   ]
  },
  {
   "cell_type": "code",
   "execution_count": 39,
   "metadata": {},
   "outputs": [
    {
     "data": {
      "text/plain": [
       "[4, 6, 10, 5]"
      ]
     },
     "execution_count": 39,
     "metadata": {},
     "output_type": "execute_result"
    }
   ],
   "source": [
    "#c\n",
    "length = [len(i) for i in array1]\n",
    "length"
   ]
  },
  {
   "cell_type": "code",
   "execution_count": 31,
   "metadata": {},
   "outputs": [
    {
     "name": "stdout",
     "output_type": "stream",
     "text": [
      "[ 1  3  5  7  9 11 13 15 17 19 21 23 25 27 29 31 33 35 37 39 41]\n",
      "[ 1.  3.  5.  7.  9. 11. 13. 15. 17. 19. 21. 23. 25. 27. 29. 31. 33. 35.\n",
      " 37. 39. 41.]\n"
     ]
    }
   ],
   "source": [
    "#2\n",
    "#Create an array containing every other odd number starting w/ 1 ending with (and including) 41.\n",
    "odds = np.arange(1,43,2)\n",
    "print(odds)\n",
    "odds = odds.astype(float)\n",
    "print(odds)"
   ]
  },
  {
   "cell_type": "code",
   "execution_count": 33,
   "metadata": {},
   "outputs": [
    {
     "data": {
      "text/plain": [
       "441.0"
      ]
     },
     "execution_count": 33,
     "metadata": {},
     "output_type": "execute_result"
    }
   ],
   "source": [
    "#a\n",
    "#sum of elements in 'odds'\n",
    "print(np.sum(odds))"
   ]
  },
  {
   "cell_type": "code",
   "execution_count": 36,
   "metadata": {},
   "outputs": [
    {
     "name": "stdout",
     "output_type": "stream",
     "text": [
      "1.3113070457687988e+25\n"
     ]
    }
   ],
   "source": [
    "#a\n",
    "#product of elements in 'odds'\n",
    "print(np.prod(odds))\n",
    "#python has issues when computing large integers. Use 'astype' to convert these numbers to floats\n",
    "#so that the output of this line is accurate. (Fixed this in question 2a.)"
   ]
  },
  {
   "cell_type": "code",
   "execution_count": 35,
   "metadata": {},
   "outputs": [
    {
     "name": "stdout",
     "output_type": "stream",
     "text": [
      "[0.         1.09861229 1.60943791 1.94591015 2.19722458 2.39789527\n",
      " 2.56494936 2.7080502  2.83321334 2.94443898 3.04452244 3.13549422\n",
      " 3.21887582 3.29583687 3.36729583 3.4339872  3.49650756 3.55534806\n",
      " 3.61091791 3.66356165 3.71357207]\n"
     ]
    }
   ],
   "source": [
    "#b\n",
    "#take the natural log of each element in 'odds'\n",
    "print(np.log(odds))"
   ]
  },
  {
   "cell_type": "code",
   "execution_count": 45,
   "metadata": {},
   "outputs": [
    {
     "name": "stdout",
     "output_type": "stream",
     "text": [
      "9.0\n",
      "27.0\n",
      "45.0\n",
      "63.0\n",
      "81.0\n",
      "99.0\n",
      "117.0\n"
     ]
    }
   ],
   "source": [
    "#c\n",
    "#find the sum of adjacent elements of 'odds' (like np.diff expcept with addition)\n",
    "\n",
    "#took this solution off stack overflow, but it doesn't work perfectly for numbers at the beginning and end of the array.\n",
    "step = 3\n",
    "\n",
    "for i in range(0,odds.shape[0],step):\n",
    "    print(np.sum(odds[i:i+step]))"
   ]
  }
 ],
 "metadata": {
  "kernelspec": {
   "display_name": "Python 3",
   "language": "python",
   "name": "python3"
  },
  "language_info": {
   "codemirror_mode": {
    "name": "ipython",
    "version": 3
   },
   "file_extension": ".py",
   "mimetype": "text/x-python",
   "name": "python",
   "nbconvert_exporter": "python",
   "pygments_lexer": "ipython3",
   "version": "3.6.5"
  }
 },
 "nbformat": 4,
 "nbformat_minor": 2
}
